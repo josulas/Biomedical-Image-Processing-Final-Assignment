{
 "cells": [
  {
   "cell_type": "markdown",
   "id": "7f289f6059cdd0ec",
   "metadata": {},
   "source": [
    "# Classifier Training"
   ]
  },
  {
   "cell_type": "markdown",
   "id": "91e82f85ef849e31",
   "metadata": {},
   "source": [
    "## Initial Setup"
   ]
  },
  {
   "cell_type": "code",
   "id": "7e3ef6710a8c056c",
   "metadata": {
    "ExecuteTime": {
     "end_time": "2024-12-18T14:53:29.830802Z",
     "start_time": "2024-12-18T14:53:23.367312Z"
    }
   },
   "source": [
    "# Imports\n",
    "import numpy as np\n",
    "import torch\n",
    "from torch import nn, optim\n",
    "import torch.nn.functional as functional\n",
    "from torch.utils.data import Dataset, DataLoader\n",
    "import matplotlib.pyplot as plt\n",
    "import os\n",
    "from IPython.display import clear_output\n",
    "import gc\n",
    "from torchvision.models.resnet import resnet18\n",
    "from torchsummary import summary\n",
    "from tqdm.auto import tqdm\n",
    "import torch_directml\n",
    "from dataset import TEST_DATASET, TRAIN_DATASET, get_elements_from_indexes, LABELS\n",
    "from datasets import load_dataset\n",
    "from collections import OrderedDict\n",
    "from segmentation.k_means import kmeans, KmeansFlags, KmeansTermCrit, KmeansTermOpt\n",
    "from improving.filtering import conv2d\n",
    "import cv2\n",
    "from joblib import Parallel, delayed\n",
    "from sklearn.metrics import confusion_matrix, accuracy_score, f1_score, precision_score, recall_score, classification_report\n",
    "import seaborn as sns"
   ],
   "outputs": [],
   "execution_count": 1
  },
  {
   "cell_type": "code",
   "id": "203c1d32c3000961",
   "metadata": {
    "ExecuteTime": {
     "end_time": "2024-12-18T14:54:28.331690Z",
     "start_time": "2024-12-18T14:54:28.300865Z"
    }
   },
   "source": [
    "# MatPlotLib Configuration\n",
    "%matplotlib notebook\n",
    "plt.ioff()"
   ],
   "outputs": [
    {
     "data": {
      "text/plain": [
       "<contextlib.ExitStack at 0x271db9c5310>"
      ]
     },
     "execution_count": 2,
     "metadata": {},
     "output_type": "execute_result"
    }
   ],
   "execution_count": 2
  },
  {
   "cell_type": "code",
   "id": "a3690e3c51f74a92",
   "metadata": {
    "ExecuteTime": {
     "end_time": "2024-12-18T14:54:29.984658Z",
     "start_time": "2024-12-18T14:54:29.917510Z"
    }
   },
   "source": [
    "# Set device\n",
    "dml = torch_directml.device()"
   ],
   "outputs": [],
   "execution_count": 3
  },
  {
   "cell_type": "code",
   "id": "4bf3ad9112a85f68",
   "metadata": {
    "ExecuteTime": {
     "end_time": "2024-12-18T14:54:34.768074Z",
     "start_time": "2024-12-18T14:54:34.755492Z"
    }
   },
   "source": [
    "# Functions\n",
    "# Plot single-channel images with a fixed configuration\n",
    "def draw_grayscale_image(image, ax):\n",
    "    ax.imshow(image, cmap='gray', vmin=0, vmax=255)\n",
    "    ax.axis('off')\n",
    "    \n",
    "# Clear output and then execute decorator\n",
    "def clear_and_execute(func):\n",
    "    def wrapper(*args, **kwargs):\n",
    "        clear_output()\n",
    "        return func(*args, **kwargs)\n",
    "    return wrapper\n",
    "\n",
    "# Image pre-processing\n",
    "# Filter definition\n",
    "epsilon = 0.1\n",
    "sigma = 3\n",
    "gaussianDim = int(np.ceil(np.sqrt(-2 * sigma ** 2 * np.log(epsilon * sigma * np.sqrt(2 * np.pi)))))\n",
    "gaussianKernel1D = cv2.getGaussianKernel(gaussianDim, sigma)\n",
    "gaussianKernel = np.outer(gaussianKernel1D, gaussianKernel1D)\n",
    "@clear_and_execute\n",
    "def process_element(element):\n",
    "    image = element[0]\n",
    "    label = element[1]\n",
    "    filtered_image = conv2d(image, gaussianKernel)\n",
    "    compactness, labels, centers = kmeans(\n",
    "        filtered_image.flatten(), 3, \n",
    "        criteria=KmeansTermCrit(KmeansTermOpt.BOTH, 20, 0.5),\n",
    "        flags=KmeansFlags.KMEANS_PP_CENTERS, attempts=5\n",
    "    )\n",
    "    centers = centers.astype(np.uint8)\n",
    "    segmented_kmeans = centers[labels].reshape(image.shape)\n",
    "    sorted_centers = sorted(centers)\n",
    "    white_matter_idx = np.argmax(centers == sorted_centers[2])\n",
    "    grey_matter_idx = np.argmax(centers == sorted_centers[1])\n",
    "    segmented_white_matter = np.where(segmented_kmeans == centers[white_matter_idx], 1, 0).astype(np.uint8)\n",
    "    segmented_grey_matter = np.where(segmented_kmeans == centers[grey_matter_idx], 1, 0).astype(np.uint8)\n",
    "    return np.array((image, segmented_white_matter, segmented_grey_matter)), label\n",
    "\n",
    "# Parallel processing of images\n",
    "def parallel_processing(dataset_elements):\n",
    "    dataset_length = len(dataset_elements)\n",
    "    data = np.zeros((dataset_length, 3, *img_shape), dtype=np.uint8)\n",
    "    labels = np.zeros((dataset_length,), dtype=np.uint8)\n",
    "    results = Parallel(n_jobs=8)(delayed(process_element)(element) for element in tqdm(dataset_elements))\n",
    "    for index in range(len(results)):\n",
    "        data[index] = results[index][0]\n",
    "        labels[index] = results[index][1]\n",
    "    return data, labels.astype(np.uint8)"
   ],
   "outputs": [],
   "execution_count": 4
  },
  {
   "cell_type": "code",
   "id": "aba60ca9e7cb4a3c",
   "metadata": {
    "ExecuteTime": {
     "end_time": "2024-12-18T14:54:37.947246Z",
     "start_time": "2024-12-18T14:54:37.941892Z"
    }
   },
   "source": [
    "# Pre-processed dataset files\n",
    "if not os.path.exists('pre_processed_dataset'):\n",
    "    os.mkdir('pre_processed_dataset')\n",
    "TRAIN_DATA_FILE = 'pre_processed_dataset/train.npy'\n",
    "TRAIN_LABELS_FILE = 'pre_processed_dataset/train_labels.npy'\n",
    "TEST_DATA_FILE = 'pre_processed_dataset/test.npy'\n",
    "TEST_LABELS_FILE = 'pre_processed_dataset/test_labels.npy'"
   ],
   "outputs": [],
   "execution_count": 5
  },
  {
   "cell_type": "code",
   "id": "e0ddfb0819070709",
   "metadata": {
    "ExecuteTime": {
     "end_time": "2024-12-18T14:54:40.037449Z",
     "start_time": "2024-12-18T14:54:40.032393Z"
    }
   },
   "source": [
    "# Checkpoint folder creation\n",
    "if not os.path.exists('checkpoints'):\n",
    "    os.mkdir('checkpoints')"
   ],
   "outputs": [],
   "execution_count": 6
  },
  {
   "cell_type": "markdown",
   "id": "29cad924978028d8",
   "metadata": {},
   "source": [
    "## Dataset Preprocessing"
   ]
  },
  {
   "cell_type": "code",
   "execution_count": 8,
   "id": "9758bcd772f6149b",
   "metadata": {
    "ExecuteTime": {
     "end_time": "2024-12-18T14:45:07.483652Z",
     "start_time": "2024-12-18T14:44:58.545224Z"
    }
   },
   "outputs": [],
   "source": [
    "train_dataset = load_dataset(**TRAIN_DATASET)\n",
    "train_dataset_length = len(train_dataset)\n",
    "train_dataset_elements = get_elements_from_indexes(train_dataset, np.arange(len(train_dataset)))\n",
    "img_shape = train_dataset_elements[0][0].shape\n",
    "test_dataset = load_dataset(**TEST_DATASET)\n",
    "test_dataset_elements = get_elements_from_indexes(test_dataset, np.arange(len(test_dataset)))"
   ]
  },
  {
   "cell_type": "code",
   "execution_count": null,
   "id": "17835d9fff2b72c1",
   "metadata": {},
   "outputs": [],
   "source": [
    "# Train Data Processing\n",
    "train_data, train_labels = parallel_processing(train_dataset_elements)\n",
    "print(\"Saving training data\")\n",
    "np.save(TRAIN_DATA_FILE, train_data)\n",
    "np.save(TRAIN_LABELS_FILE, train_labels)"
   ]
  },
  {
   "cell_type": "code",
   "execution_count": null,
   "id": "4236eff51805d2d0",
   "metadata": {},
   "outputs": [],
   "source": [
    "# Test Data Processing\n",
    "test_data, test_labels = parallel_processing(test_dataset_elements)\n",
    "print(\"Saving testing data\")\n",
    "np.save(TEST_DATA_FILE, test_data)\n",
    "np.save(TEST_LABELS_FILE, test_labels)"
   ]
  },
  {
   "cell_type": "code",
   "execution_count": null,
   "id": "ec83307156a22644",
   "metadata": {},
   "outputs": [],
   "source": [
    "# Validate the results\n",
    "train_data = np.load(TRAIN_DATA_FILE)\n",
    "train_labels = np.load(TRAIN_LABELS_FILE)\n",
    "random_index = np.random.randint(train_data.shape[0])\n",
    "sample = train_data[random_index]\n",
    "sample_image, sample_white_matter, sample_grey_matter = sample[0], sample[1], sample[2]\n",
    "sample_label = train_labels[random_index]\n",
    "if 'sample_fig' in globals():\n",
    "    plt.close('Sample image')\n",
    "sample_fig = plt.figure(figsize=(6, 2.3), num=\"Sample Image\")\n",
    "sample_axs = sample_fig.subplots(1, 3)\n",
    "draw_grayscale_image(sample_image, sample_axs[0])\n",
    "draw_grayscale_image(sample_white_matter * 255, sample_axs[1])\n",
    "draw_grayscale_image(sample_grey_matter * 255, sample_axs[2])\n",
    "sample_fig.suptitle(f\"Example Figure, label: {LABELS[sample_label]}\")\n",
    "sample_fig.tight_layout()\n",
    "sample_fig.show()"
   ]
  },
  {
   "cell_type": "markdown",
   "id": "6b34380dd410c86",
   "metadata": {},
   "source": [
    "## Dataset Handlers & Dataloaders"
   ]
  },
  {
   "cell_type": "code",
   "id": "e80a5c1ea8b097c8",
   "metadata": {
    "ExecuteTime": {
     "end_time": "2024-12-18T14:54:42.992422Z",
     "start_time": "2024-12-18T14:54:42.986303Z"
    }
   },
   "source": [
    "# Dataset definition\n",
    "class DatasetHandler(Dataset):\n",
    "    def __init__(self, path_to_data: str, path_to_labels: str):\n",
    "        self.data = torch.tensor(np.load(path_to_data), dtype=torch.float)\n",
    "        self.data[:,0] /= 255 # Must be divided to be between 0 and 1\n",
    "        labels = np.load(path_to_labels)\n",
    "        self.labels = torch.zeros((len(labels), 4))\n",
    "        for index in range(len(labels)):\n",
    "            self.labels[index][labels[index]] = 1\n",
    "    def __getitem__(self, idx):\n",
    "        return self.data[idx], self.labels[idx]\n",
    "    def __len__(self):\n",
    "        return len(self.data)"
   ],
   "outputs": [],
   "execution_count": 7
  },
  {
   "cell_type": "code",
   "id": "39518b60c0d7660d",
   "metadata": {
    "ExecuteTime": {
     "end_time": "2024-12-18T14:54:45.256185Z",
     "start_time": "2024-12-18T14:54:44.581420Z"
    }
   },
   "source": [
    "# Creation of dataloaders\n",
    "train_dataset_handler = DatasetHandler(TRAIN_DATA_FILE, TRAIN_LABELS_FILE)\n",
    "test_dataset_handler = DatasetHandler(TEST_DATA_FILE, TEST_LABELS_FILE)\n",
    "batch_size_train = 16\n",
    "batch_size_test = 32\n",
    "n_workers = 4\n",
    "train_dataloader = DataLoader(train_dataset_handler, batch_size=batch_size_train, shuffle=True,\n",
    "                              num_workers=0, pin_memory=False)\n",
    "test_dataloader = DataLoader(test_dataset_handler, batch_size=batch_size_test, shuffle=True,\n",
    "                             num_workers=0, pin_memory=False)"
   ],
   "outputs": [],
   "execution_count": 8
  },
  {
   "cell_type": "markdown",
   "id": "366e48020157b563",
   "metadata": {},
   "source": [
    "## Module Initialization Functions"
   ]
  },
  {
   "cell_type": "code",
   "id": "a3b915479a2d7123",
   "metadata": {
    "ExecuteTime": {
     "end_time": "2024-12-18T14:54:46.628001Z",
     "start_time": "2024-12-18T14:54:46.621413Z"
    }
   },
   "source": [
    "def init_weights(net, init='norm', gain=0.02, verbose: bool = True):\n",
    "    def init_func(m):\n",
    "        classname = m.__class__.__name__\n",
    "        if hasattr(m, 'weight') and 'Conv' in classname:\n",
    "            if init == 'norm':\n",
    "                nn.init.normal_(m.weight.validation_data, mean=0.0, std=gain)\n",
    "            elif init == 'xavier':\n",
    "                nn.init.xavier_normal_(m.weight.validation_data, gain=gain)\n",
    "            elif init == 'kaiming':\n",
    "                nn.init.kaiming_normal_(m.weight.validation_data, a=0, mode='fan_in')\n",
    "            if hasattr(m, 'bias') and m.bias is not None:\n",
    "                nn.init.constant_(m.bias.validation_data, 0.0)\n",
    "        elif 'BatchNorm2d' in classname:\n",
    "            nn.init.normal_(m.weight.validation_data, 1., gain)\n",
    "            nn.init.constant_(m.bias.validation_data, 0.)\n",
    "    net.apply(init_func)\n",
    "    if verbose:\n",
    "        print(f\"Model initialized with {init} initialization.\")\n",
    "    return net\n",
    "\n",
    "\n",
    "def init_model(model):\n",
    "    model = init_weights(model)\n",
    "    return model"
   ],
   "outputs": [],
   "execution_count": 9
  },
  {
   "cell_type": "markdown",
   "id": "838eb1b7c28a76aa",
   "metadata": {},
   "source": [
    "## Architecture"
   ]
  },
  {
   "cell_type": "markdown",
   "id": "cbeb4b24f04d71fd",
   "metadata": {},
   "source": [
    "### ResNet18"
   ]
  },
  {
   "cell_type": "code",
   "id": "b1db600ffb46d5f3",
   "metadata": {
    "ExecuteTime": {
     "end_time": "2024-12-18T14:54:48.776485Z",
     "start_time": "2024-12-18T14:54:48.623970Z"
    }
   },
   "source": [
    "## ResNet Constitution\n",
    "class ResidualBlock(nn.Module):\n",
    "    def __init__(self, in_channels, out_channels, downsample=False):\n",
    "        # In the init we declare the attributes of the block (mostly layers)\n",
    "        super().__init__()\n",
    "        self.downsample = downsample\n",
    "        first_stride = 2 if downsample else 1\n",
    "        self.conv1 = nn.Conv2d(in_channels, out_channels, kernel_size=3, padding=1, stride=first_stride, bias=False)\n",
    "        self.bn1 = nn.BatchNorm2d(out_channels)\n",
    "        self.relu1 = nn.ReLU(inplace=False)\n",
    "        self.conv2 = nn.Conv2d(out_channels, out_channels, kernel_size=3, stride=1, padding=1, bias=False) \n",
    "        self.bn2 = nn.BatchNorm2d(out_channels)\n",
    "        self.relu2 = nn.ReLU(inplace=False)\n",
    "        if downsample:\n",
    "            # at the end of the residual block, we add the input to the output (skip connection)\n",
    "            # but if we reduce the resolution of the output (with stride 2) the resolutions don't match\n",
    "            # so we also have to reduce the resolution of the input\n",
    "            # While reducing the resolution we also increase the number of channels\n",
    "            # so we also use out_channels here to double the number of channels\n",
    "            self.downsample_conv = nn.Conv2d(in_channels, out_channels, kernel_size=1, stride=2, bias=False)\n",
    "            self.downsample_bn = nn.BatchNorm2d(out_channels)\n",
    "    def forward(self, input):\n",
    "        # the forward method calculates the result of the block\n",
    "        conv1_out = self.conv1(input)\n",
    "        bn1_out = self.bn1(conv1_out)\n",
    "        relu1_out = self.relu1(bn1_out)\n",
    "        conv2_out = self.conv2(relu1_out)\n",
    "        bn2_out = self.bn2(conv2_out)\n",
    "        if self.downsample:\n",
    "            # half the width and height of input feature map if the block is downsampling\n",
    "            # this also doubles the channel size\n",
    "            input = self.downsample_conv(input)\n",
    "            input = self.downsample_bn(input)\n",
    "        # skip connection\n",
    "        output = input + bn2_out\n",
    "        return self.relu2(output)\n",
    "\n",
    "\n",
    "class Stem(nn.Module):\n",
    "    def __init__(self):\n",
    "        super().__init__()\n",
    "        self.sequential = nn.Sequential(\n",
    "            # conv halves width and height and creates 64 channel feature map\n",
    "            nn.Conv2d(in_channels=3, out_channels=64, kernel_size=7, stride=2, padding=3, bias=False),\n",
    "            nn.BatchNorm2d(64),\n",
    "            nn.ReLU(),\n",
    "            # maxpool also halves width and height, channels stay the same\n",
    "            nn.MaxPool2d(kernel_size=3, stride=2, padding=1)\n",
    "        )\n",
    "    def forward(self, x):\n",
    "        return self.sequential(x)\n",
    "\n",
    "\n",
    "def get_classification_layer(in_channels, out_channels=1000):\n",
    "    return nn.Sequential(\n",
    "        nn.AdaptiveAvgPool2d(1),\n",
    "        nn.Flatten(),\n",
    "        # standard imagenet has 1000 classes\n",
    "        nn.Linear(in_features=in_channels, out_features=out_channels),\n",
    "    )\n",
    "\n",
    "class ResNet18(nn.Module):\n",
    "    def __init__(self):\n",
    "        super().__init__()\n",
    "        self.stage1 = Stem()\n",
    "        self.stage2 = nn.Sequential(\n",
    "            ResidualBlock(64, 64, downsample=False),\n",
    "            ResidualBlock(64, 64, downsample=False)\n",
    "        )\n",
    "        self.stage3 = nn.Sequential(\n",
    "            ResidualBlock(64, 128, downsample=True),\n",
    "            ResidualBlock(128, 128, downsample=False)\n",
    "        )\n",
    "        self.stage4 = nn.Sequential(\n",
    "            ResidualBlock(128, 256, downsample=True),\n",
    "            ResidualBlock(256, 256, downsample=False)\n",
    "        )\n",
    "        self.stage5 = nn.Sequential(\n",
    "            ResidualBlock(256, 512, downsample=True),\n",
    "            ResidualBlock(512, 512, downsample=False)\n",
    "        )\n",
    "        self.classification_layer = get_classification_layer(512)\n",
    "    def forward(self, input):\n",
    "        stage1_output = self.stage1(input)\n",
    "        stage2_output = self.stage2(stage1_output)\n",
    "        stage3_output = self.stage3(stage2_output)\n",
    "        stage4_output = self.stage4(stage3_output)\n",
    "        stage5_output = self.stage5(stage4_output)\n",
    "        classification = self.classification_layer(stage5_output)\n",
    "        return classification\n",
    "\n",
    "summary(ResNet18(), input_size=(3,224,224))"
   ],
   "outputs": [
    {
     "name": "stdout",
     "output_type": "stream",
     "text": [
      "----------------------------------------------------------------\n",
      "        Layer (type)               Output Shape         Param #\n",
      "================================================================\n",
      "            Conv2d-1         [-1, 64, 112, 112]           9,408\n",
      "       BatchNorm2d-2         [-1, 64, 112, 112]             128\n",
      "              ReLU-3         [-1, 64, 112, 112]               0\n",
      "         MaxPool2d-4           [-1, 64, 56, 56]               0\n",
      "              Stem-5           [-1, 64, 56, 56]               0\n",
      "            Conv2d-6           [-1, 64, 56, 56]          36,864\n",
      "       BatchNorm2d-7           [-1, 64, 56, 56]             128\n",
      "              ReLU-8           [-1, 64, 56, 56]               0\n",
      "            Conv2d-9           [-1, 64, 56, 56]          36,864\n",
      "      BatchNorm2d-10           [-1, 64, 56, 56]             128\n",
      "             ReLU-11           [-1, 64, 56, 56]               0\n",
      "    ResidualBlock-12           [-1, 64, 56, 56]               0\n",
      "           Conv2d-13           [-1, 64, 56, 56]          36,864\n",
      "      BatchNorm2d-14           [-1, 64, 56, 56]             128\n",
      "             ReLU-15           [-1, 64, 56, 56]               0\n",
      "           Conv2d-16           [-1, 64, 56, 56]          36,864\n",
      "      BatchNorm2d-17           [-1, 64, 56, 56]             128\n",
      "             ReLU-18           [-1, 64, 56, 56]               0\n",
      "    ResidualBlock-19           [-1, 64, 56, 56]               0\n",
      "           Conv2d-20          [-1, 128, 28, 28]          73,728\n",
      "      BatchNorm2d-21          [-1, 128, 28, 28]             256\n",
      "             ReLU-22          [-1, 128, 28, 28]               0\n",
      "           Conv2d-23          [-1, 128, 28, 28]         147,456\n",
      "      BatchNorm2d-24          [-1, 128, 28, 28]             256\n",
      "           Conv2d-25          [-1, 128, 28, 28]           8,192\n",
      "      BatchNorm2d-26          [-1, 128, 28, 28]             256\n",
      "             ReLU-27          [-1, 128, 28, 28]               0\n",
      "    ResidualBlock-28          [-1, 128, 28, 28]               0\n",
      "           Conv2d-29          [-1, 128, 28, 28]         147,456\n",
      "      BatchNorm2d-30          [-1, 128, 28, 28]             256\n",
      "             ReLU-31          [-1, 128, 28, 28]               0\n",
      "           Conv2d-32          [-1, 128, 28, 28]         147,456\n",
      "      BatchNorm2d-33          [-1, 128, 28, 28]             256\n",
      "             ReLU-34          [-1, 128, 28, 28]               0\n",
      "    ResidualBlock-35          [-1, 128, 28, 28]               0\n",
      "           Conv2d-36          [-1, 256, 14, 14]         294,912\n",
      "      BatchNorm2d-37          [-1, 256, 14, 14]             512\n",
      "             ReLU-38          [-1, 256, 14, 14]               0\n",
      "           Conv2d-39          [-1, 256, 14, 14]         589,824\n",
      "      BatchNorm2d-40          [-1, 256, 14, 14]             512\n",
      "           Conv2d-41          [-1, 256, 14, 14]          32,768\n",
      "      BatchNorm2d-42          [-1, 256, 14, 14]             512\n",
      "             ReLU-43          [-1, 256, 14, 14]               0\n",
      "    ResidualBlock-44          [-1, 256, 14, 14]               0\n",
      "           Conv2d-45          [-1, 256, 14, 14]         589,824\n",
      "      BatchNorm2d-46          [-1, 256, 14, 14]             512\n",
      "             ReLU-47          [-1, 256, 14, 14]               0\n",
      "           Conv2d-48          [-1, 256, 14, 14]         589,824\n",
      "      BatchNorm2d-49          [-1, 256, 14, 14]             512\n",
      "             ReLU-50          [-1, 256, 14, 14]               0\n",
      "    ResidualBlock-51          [-1, 256, 14, 14]               0\n",
      "           Conv2d-52            [-1, 512, 7, 7]       1,179,648\n",
      "      BatchNorm2d-53            [-1, 512, 7, 7]           1,024\n",
      "             ReLU-54            [-1, 512, 7, 7]               0\n",
      "           Conv2d-55            [-1, 512, 7, 7]       2,359,296\n",
      "      BatchNorm2d-56            [-1, 512, 7, 7]           1,024\n",
      "           Conv2d-57            [-1, 512, 7, 7]         131,072\n",
      "      BatchNorm2d-58            [-1, 512, 7, 7]           1,024\n",
      "             ReLU-59            [-1, 512, 7, 7]               0\n",
      "    ResidualBlock-60            [-1, 512, 7, 7]               0\n",
      "           Conv2d-61            [-1, 512, 7, 7]       2,359,296\n",
      "      BatchNorm2d-62            [-1, 512, 7, 7]           1,024\n",
      "             ReLU-63            [-1, 512, 7, 7]               0\n",
      "           Conv2d-64            [-1, 512, 7, 7]       2,359,296\n",
      "      BatchNorm2d-65            [-1, 512, 7, 7]           1,024\n",
      "             ReLU-66            [-1, 512, 7, 7]               0\n",
      "    ResidualBlock-67            [-1, 512, 7, 7]               0\n",
      "AdaptiveAvgPool2d-68            [-1, 512, 1, 1]               0\n",
      "          Flatten-69                  [-1, 512]               0\n",
      "           Linear-70                 [-1, 1000]         513,000\n",
      "================================================================\n",
      "Total params: 11,689,512\n",
      "Trainable params: 11,689,512\n",
      "Non-trainable params: 0\n",
      "----------------------------------------------------------------\n",
      "Input size (MB): 0.57\n",
      "Forward/backward pass size (MB): 64.33\n",
      "Params size (MB): 44.59\n",
      "Estimated Total Size (MB): 109.49\n",
      "----------------------------------------------------------------\n"
     ]
    }
   ],
   "execution_count": 10
  },
  {
   "cell_type": "markdown",
   "id": "94ce6a2fb77235c",
   "metadata": {},
   "source": [
    "### ResNet18 Initialization with Pre-Trained Weights"
   ]
  },
  {
   "cell_type": "code",
   "id": "50aebb748824dc2",
   "metadata": {
    "ExecuteTime": {
     "end_time": "2024-12-18T14:54:57.367228Z",
     "start_time": "2024-12-18T14:54:57.145277Z"
    }
   },
   "source": [
    "resnet_model = ResNet18()\n",
    "pretrained_state_dict = resnet18( weights='IMAGENET1K_V1').state_dict()\n",
    "new_state_dict = OrderedDict()\n",
    "for key, value in zip(resnet_model.state_dict().keys(), pretrained_state_dict.values()):\n",
    "    new_state_dict[key] = value\n",
    "resnet_model.load_state_dict(new_state_dict)"
   ],
   "outputs": [
    {
     "data": {
      "text/plain": [
       "<All keys matched successfully>"
      ]
     },
     "execution_count": 11,
     "metadata": {},
     "output_type": "execute_result"
    }
   ],
   "execution_count": 11
  },
  {
   "cell_type": "markdown",
   "id": "6fe563304f106e33",
   "metadata": {},
   "source": [
    "### ResNet18 without Prediction Head"
   ]
  },
  {
   "cell_type": "code",
   "id": "bff64563f94c6adc",
   "metadata": {
    "ExecuteTime": {
     "end_time": "2024-12-18T14:55:00.456068Z",
     "start_time": "2024-12-18T14:55:00.358990Z"
    }
   },
   "source": [
    "resnet_skeleton = nn.Sequential(*list(resnet_model.children())[:-1])\n",
    "summary(resnet_skeleton, input_size=(3,224,224))"
   ],
   "outputs": [
    {
     "name": "stdout",
     "output_type": "stream",
     "text": [
      "----------------------------------------------------------------\n",
      "        Layer (type)               Output Shape         Param #\n",
      "================================================================\n",
      "            Conv2d-1         [-1, 64, 112, 112]           9,408\n",
      "       BatchNorm2d-2         [-1, 64, 112, 112]             128\n",
      "              ReLU-3         [-1, 64, 112, 112]               0\n",
      "         MaxPool2d-4           [-1, 64, 56, 56]               0\n",
      "              Stem-5           [-1, 64, 56, 56]               0\n",
      "            Conv2d-6           [-1, 64, 56, 56]          36,864\n",
      "       BatchNorm2d-7           [-1, 64, 56, 56]             128\n",
      "              ReLU-8           [-1, 64, 56, 56]               0\n",
      "            Conv2d-9           [-1, 64, 56, 56]          36,864\n",
      "      BatchNorm2d-10           [-1, 64, 56, 56]             128\n",
      "             ReLU-11           [-1, 64, 56, 56]               0\n",
      "    ResidualBlock-12           [-1, 64, 56, 56]               0\n",
      "           Conv2d-13           [-1, 64, 56, 56]          36,864\n",
      "      BatchNorm2d-14           [-1, 64, 56, 56]             128\n",
      "             ReLU-15           [-1, 64, 56, 56]               0\n",
      "           Conv2d-16           [-1, 64, 56, 56]          36,864\n",
      "      BatchNorm2d-17           [-1, 64, 56, 56]             128\n",
      "             ReLU-18           [-1, 64, 56, 56]               0\n",
      "    ResidualBlock-19           [-1, 64, 56, 56]               0\n",
      "           Conv2d-20          [-1, 128, 28, 28]          73,728\n",
      "      BatchNorm2d-21          [-1, 128, 28, 28]             256\n",
      "             ReLU-22          [-1, 128, 28, 28]               0\n",
      "           Conv2d-23          [-1, 128, 28, 28]         147,456\n",
      "      BatchNorm2d-24          [-1, 128, 28, 28]             256\n",
      "           Conv2d-25          [-1, 128, 28, 28]           8,192\n",
      "      BatchNorm2d-26          [-1, 128, 28, 28]             256\n",
      "             ReLU-27          [-1, 128, 28, 28]               0\n",
      "    ResidualBlock-28          [-1, 128, 28, 28]               0\n",
      "           Conv2d-29          [-1, 128, 28, 28]         147,456\n",
      "      BatchNorm2d-30          [-1, 128, 28, 28]             256\n",
      "             ReLU-31          [-1, 128, 28, 28]               0\n",
      "           Conv2d-32          [-1, 128, 28, 28]         147,456\n",
      "      BatchNorm2d-33          [-1, 128, 28, 28]             256\n",
      "             ReLU-34          [-1, 128, 28, 28]               0\n",
      "    ResidualBlock-35          [-1, 128, 28, 28]               0\n",
      "           Conv2d-36          [-1, 256, 14, 14]         294,912\n",
      "      BatchNorm2d-37          [-1, 256, 14, 14]             512\n",
      "             ReLU-38          [-1, 256, 14, 14]               0\n",
      "           Conv2d-39          [-1, 256, 14, 14]         589,824\n",
      "      BatchNorm2d-40          [-1, 256, 14, 14]             512\n",
      "           Conv2d-41          [-1, 256, 14, 14]          32,768\n",
      "      BatchNorm2d-42          [-1, 256, 14, 14]             512\n",
      "             ReLU-43          [-1, 256, 14, 14]               0\n",
      "    ResidualBlock-44          [-1, 256, 14, 14]               0\n",
      "           Conv2d-45          [-1, 256, 14, 14]         589,824\n",
      "      BatchNorm2d-46          [-1, 256, 14, 14]             512\n",
      "             ReLU-47          [-1, 256, 14, 14]               0\n",
      "           Conv2d-48          [-1, 256, 14, 14]         589,824\n",
      "      BatchNorm2d-49          [-1, 256, 14, 14]             512\n",
      "             ReLU-50          [-1, 256, 14, 14]               0\n",
      "    ResidualBlock-51          [-1, 256, 14, 14]               0\n",
      "           Conv2d-52            [-1, 512, 7, 7]       1,179,648\n",
      "      BatchNorm2d-53            [-1, 512, 7, 7]           1,024\n",
      "             ReLU-54            [-1, 512, 7, 7]               0\n",
      "           Conv2d-55            [-1, 512, 7, 7]       2,359,296\n",
      "      BatchNorm2d-56            [-1, 512, 7, 7]           1,024\n",
      "           Conv2d-57            [-1, 512, 7, 7]         131,072\n",
      "      BatchNorm2d-58            [-1, 512, 7, 7]           1,024\n",
      "             ReLU-59            [-1, 512, 7, 7]               0\n",
      "    ResidualBlock-60            [-1, 512, 7, 7]               0\n",
      "           Conv2d-61            [-1, 512, 7, 7]       2,359,296\n",
      "      BatchNorm2d-62            [-1, 512, 7, 7]           1,024\n",
      "             ReLU-63            [-1, 512, 7, 7]               0\n",
      "           Conv2d-64            [-1, 512, 7, 7]       2,359,296\n",
      "      BatchNorm2d-65            [-1, 512, 7, 7]           1,024\n",
      "             ReLU-66            [-1, 512, 7, 7]               0\n",
      "    ResidualBlock-67            [-1, 512, 7, 7]               0\n",
      "================================================================\n",
      "Total params: 11,176,512\n",
      "Trainable params: 11,176,512\n",
      "Non-trainable params: 0\n",
      "----------------------------------------------------------------\n",
      "Input size (MB): 0.57\n",
      "Forward/backward pass size (MB): 64.31\n",
      "Params size (MB): 42.64\n",
      "Estimated Total Size (MB): 107.52\n",
      "----------------------------------------------------------------\n"
     ]
    }
   ],
   "execution_count": 12
  },
  {
   "cell_type": "markdown",
   "id": "a8c96b0fca7e7972",
   "metadata": {},
   "source": [
    "### Custom ResNet18 with Case-Specific Prediction Head"
   ]
  },
  {
   "cell_type": "code",
   "id": "c859a6cc17bbc0d8",
   "metadata": {
    "ExecuteTime": {
     "end_time": "2024-12-18T14:55:02.671097Z",
     "start_time": "2024-12-18T14:55:02.665630Z"
    }
   },
   "source": [
    "class CustomResNet18(nn.Module):\n",
    "    def __init__(self, skeleton: nn.Module):\n",
    "        super().__init__()\n",
    "        self.skeleton = skeleton\n",
    "        self.classifier = init_model(get_classification_layer(512, 4))\n",
    "    def forward(self, input):\n",
    "        return self.classifier(self.skeleton(input))\n",
    "    def set_requires_grad_skeleton(self, requires_grad: bool = True):\n",
    "        for param in self.skeleton.parameters():\n",
    "            param.requires_grad = requires_grad"
   ],
   "outputs": [],
   "execution_count": 13
  },
  {
   "cell_type": "markdown",
   "id": "4f63405e2d615f75",
   "metadata": {},
   "source": [
    "### Main Model Definition"
   ]
  },
  {
   "cell_type": "code",
   "id": "95205ed818720e23",
   "metadata": {
    "ExecuteTime": {
     "end_time": "2024-12-18T14:55:05.820274Z",
     "start_time": "2024-12-18T14:55:05.812027Z"
    }
   },
   "source": [
    "class MainModel(nn.Module):\n",
    "    def __init__(self, skeleton: nn.Module, lr=1e-3, beta1=0.9, beta2=0.999):\n",
    "        super().__init__()\n",
    "        self.device = dml\n",
    "        self.net = CustomResNet18(skeleton).to(self.device)\n",
    "        self.criterion = nn.CrossEntropyLoss()\n",
    "        self.opt = optim.Adam(self.net.parameters(), lr=lr, betas=(beta1, beta2))\n",
    "        self.input = None\n",
    "        self.target = None\n",
    "        self.prediction = None\n",
    "        self.ce_loss = None\n",
    "    def set_requires_grad(self, requires_grad=True):\n",
    "        for p in self.net.parameters():\n",
    "            p.requires_grad = requires_grad\n",
    "    def setup_input(self, data):\n",
    "        self.input = data[0].to(self.device)\n",
    "        self.target = data[1].to(self.device)\n",
    "    def forward(self):\n",
    "        self.prediction = self.net(self.input)\n",
    "    def backward(self):\n",
    "        self.ce_loss = self.criterion(self.prediction, self.target)\n",
    "        self.ce_loss.backward()\n",
    "    def optimize(self):\n",
    "        self.forward()\n",
    "        self.net.train()\n",
    "        self.opt.zero_grad()\n",
    "        self.backward()\n",
    "        self.opt.step()"
   ],
   "outputs": [],
   "execution_count": 14
  },
  {
   "cell_type": "markdown",
   "id": "d5bfd8235c2fd9f5",
   "metadata": {},
   "source": [
    "## Training"
   ]
  },
  {
   "cell_type": "markdown",
   "id": "9867d82cab93740a",
   "metadata": {},
   "source": [
    "### Model Initialization"
   ]
  },
  {
   "cell_type": "code",
   "id": "30325731bb77f13e",
   "metadata": {
    "ExecuteTime": {
     "end_time": "2024-12-18T14:56:02.014630Z",
     "start_time": "2024-12-18T14:56:01.383097Z"
    }
   },
   "source": [
    "from_checkpoint = True\n",
    "classifier = MainModel(resnet_skeleton)\n",
    "test_dataloader_iter = iter(test_dataloader)\n",
    "if not from_checkpoint:\n",
    "    last = 0\n",
    "    classifier.net.set_requires_grad_skeleton(False)\n",
    "else:\n",
    "    classifier.net.set_requires_grad_skeleton(True)\n",
    "    checkpoint = 8\n",
    "    if checkpoint is None:\n",
    "        last = 0\n",
    "        classifier.load_state_dict(torch.load(os.path.join(rf'model.pth')))\n",
    "    else:\n",
    "        last = checkpoint\n",
    "        classifier.load_state_dict(torch.load(os.path.join(rf'checkpoints/model_chckpt{checkpoint}.pth')))"
   ],
   "outputs": [
    {
     "name": "stdout",
     "output_type": "stream",
     "text": [
      "Model initialized with norm initialization.\n"
     ]
    },
    {
     "name": "stderr",
     "output_type": "stream",
     "text": [
      "C:\\Users\\Josue\\AppData\\Local\\Temp\\ipykernel_21408\\3088612028.py:15: FutureWarning: You are using `torch.load` with `weights_only=False` (the current default value), which uses the default pickle module implicitly. It is possible to construct malicious pickle data which will execute arbitrary code during unpickling (See https://github.com/pytorch/pytorch/blob/main/SECURITY.md#untrusted-models for more details). In a future release, the default value for `weights_only` will be flipped to `True`. This limits the functions that could be executed during unpickling. Arbitrary objects will no longer be allowed to be loaded via this mode unless they are explicitly allowlisted by the user via `torch.serialization.add_safe_globals`. We recommend you start setting `weights_only=True` for any use case where you don't have full control of the loaded file. Please open an issue on GitHub for any issues related to this experimental feature.\n",
      "  classifier.load_state_dict(torch.load(os.path.join(rf'checkpoints/model_chckpt{checkpoint}.pth')))\n"
     ]
    }
   ],
   "execution_count": 15
  },
  {
   "cell_type": "markdown",
   "id": "ad7231727abe5417",
   "metadata": {},
   "source": "### Training Functions"
  },
  {
   "cell_type": "code",
   "id": "16607dd7520eaab",
   "metadata": {
    "ExecuteTime": {
     "end_time": "2024-12-18T14:56:24.751621Z",
     "start_time": "2024-12-18T14:56:24.737940Z"
    }
   },
   "source": [
    "class AverageMeter:\n",
    "    def __init__(self):\n",
    "        self.count, self.avg, self.sum = [0.] * 3\n",
    "    def update(self, val, count=1):\n",
    "        self.count += count\n",
    "        self.sum += count * val\n",
    "        self.avg = self.sum / self.count\n",
    "\n",
    "\n",
    "def create_loss_meters():\n",
    "    loss = AverageMeter()\n",
    "    return {'ce_loss': loss}\n",
    "\n",
    "\n",
    "def update_losses(model, loss_meter_dict, count):\n",
    "    for loss_name, loss_meter in loss_meter_dict.items():\n",
    "        loss = getattr(model, loss_name)\n",
    "        loss_meter.update(loss.item(), count=count)\n",
    "\n",
    "\n",
    "def visualize(model, data, fig = None, ax = None):\n",
    "    labels = np.argmax(data[1], axis=1)\n",
    "    with torch.no_grad():\n",
    "        model.setup_input(data)\n",
    "        model.forward()\n",
    "    predicted = np.argmax(functional.softmax(model.prediction.detach().cpu(), dim=1), axis=1)\n",
    "    c_mat = confusion_matrix(labels, predicted, labels=np.arange(4))\n",
    "    if ax is not None:\n",
    "        ax.clear()\n",
    "    categories = list(map(lambda x: x[1], sorted(list(LABELS.items()), key=lambda x: x[0])))\n",
    "    sns.heatmap(c_mat/c_mat.sum(), \n",
    "                xticklabels=categories, yticklabels=categories,\n",
    "                cmap='Blues',\n",
    "                fmt='.2%',\n",
    "                ax=ax,\n",
    "                cbar=False)\n",
    "    if fig is not None:\n",
    "        fig.show()\n",
    "\n",
    "\n",
    "def log_results(loss_meter_dict):\n",
    "    log = \"\"\n",
    "    for loss_name, loss_meter in loss_meter_dict.items():\n",
    "        log += f\"{loss_name}: {loss_meter.avg:.5f} \"\n",
    "    return log\n",
    "\n",
    "\n",
    "def train_model(model: MainModel, train_dl: DataLoader, test_dl_iter,\n",
    "                epochs: int = 100, display_every: int = 1, save_every: int = 5, \n",
    "                check_point_start: int = 0,\n",
    "                fig = None, ax = None):\n",
    "    check_point = check_point_start\n",
    "    epoch_tqdm = tqdm(range(epochs), \"Epochs\", position=0, leave=True)\n",
    "    for epoch in epoch_tqdm:\n",
    "        loss_meter_dict = create_loss_meters() # function returning a dictionary of objects \n",
    "        batch_tqdm = tqdm(train_dl, \"Batches\", position=1, leave=False)\n",
    "        for data in batch_tqdm:\n",
    "            model.setup_input(data)\n",
    "            model.optimize() # function updating the log objects\n",
    "            update_losses(model, loss_meter_dict, count=32)\n",
    "        batch_tqdm.close()\n",
    "        results = log_results(loss_meter_dict)\n",
    "        epoch_tqdm.set_description(f\"{results}\")\n",
    "        if not (epoch + 1) % display_every:\n",
    "            visualize(model, next(test_dl_iter), fig, ax) # function displaying the model's outputs\n",
    "        if not (epoch + 1) % save_every:\n",
    "            torch.save(model.state_dict(), os.path.join(rf'checkpoints/model_chckpt{check_point}.pth'))\n",
    "            check_point = check_point + 1\n",
    "    return check_point"
   ],
   "outputs": [],
   "execution_count": 16
  },
  {
   "cell_type": "markdown",
   "id": "e73c6cc6cb7fcf5f",
   "metadata": {},
   "source": [
    "### Validation Set Performance Supervision During Training"
   ]
  },
  {
   "cell_type": "code",
   "id": "b5ca85f680832a0f",
   "metadata": {
    "ExecuteTime": {
     "end_time": "2024-12-18T14:56:31.861381Z",
     "start_time": "2024-12-18T14:56:31.827794Z"
    }
   },
   "source": [
    "## Training Supervision\n",
    "if 'train_figure' in globals():\n",
    "    plt.close('Test Validation')\n",
    "train_figure = plt.figure(num='Test Validation', figsize=(8,8))\n",
    "train_ax = train_figure.subplots(1,1)\n",
    "train_figure.show()"
   ],
   "outputs": [
    {
     "data": {
      "text/plain": [
       "<IPython.core.display.Javascript object>"
      ],
      "application/javascript": "/* Put everything inside the global mpl namespace */\n/* global mpl */\nwindow.mpl = {};\n\nmpl.get_websocket_type = function () {\n    if (typeof WebSocket !== 'undefined') {\n        return WebSocket;\n    } else if (typeof MozWebSocket !== 'undefined') {\n        return MozWebSocket;\n    } else {\n        alert(\n            'Your browser does not have WebSocket support. ' +\n                'Please try Chrome, Safari or Firefox ≥ 6. ' +\n                'Firefox 4 and 5 are also supported but you ' +\n                'have to enable WebSockets in about:config.'\n        );\n    }\n};\n\nmpl.figure = function (figure_id, websocket, ondownload, parent_element) {\n    this.id = figure_id;\n\n    this.ws = websocket;\n\n    this.supports_binary = this.ws.binaryType !== undefined;\n\n    if (!this.supports_binary) {\n        var warnings = document.getElementById('mpl-warnings');\n        if (warnings) {\n            warnings.style.display = 'block';\n            warnings.textContent =\n                'This browser does not support binary websocket messages. ' +\n                'Performance may be slow.';\n        }\n    }\n\n    this.imageObj = new Image();\n\n    this.context = undefined;\n    this.message = undefined;\n    this.canvas = undefined;\n    this.rubberband_canvas = undefined;\n    this.rubberband_context = undefined;\n    this.format_dropdown = undefined;\n\n    this.image_mode = 'full';\n\n    this.root = document.createElement('div');\n    this.root.setAttribute('style', 'display: inline-block');\n    this._root_extra_style(this.root);\n\n    parent_element.appendChild(this.root);\n\n    this._init_header(this);\n    this._init_canvas(this);\n    this._init_toolbar(this);\n\n    var fig = this;\n\n    this.waiting = false;\n\n    this.ws.onopen = function () {\n        fig.send_message('supports_binary', { value: fig.supports_binary });\n        fig.send_message('send_image_mode', {});\n        if (fig.ratio !== 1) {\n            fig.send_message('set_device_pixel_ratio', {\n                device_pixel_ratio: fig.ratio,\n            });\n        }\n        fig.send_message('refresh', {});\n    };\n\n    this.imageObj.onload = function () {\n        if (fig.image_mode === 'full') {\n            // Full images could contain transparency (where diff images\n            // almost always do), so we need to clear the canvas so that\n            // there is no ghosting.\n            fig.context.clearRect(0, 0, fig.canvas.width, fig.canvas.height);\n        }\n        fig.context.drawImage(fig.imageObj, 0, 0);\n    };\n\n    this.imageObj.onunload = function () {\n        fig.ws.close();\n    };\n\n    this.ws.onmessage = this._make_on_message_function(this);\n\n    this.ondownload = ondownload;\n};\n\nmpl.figure.prototype._init_header = function () {\n    var titlebar = document.createElement('div');\n    titlebar.classList =\n        'ui-dialog-titlebar ui-widget-header ui-corner-all ui-helper-clearfix';\n    var titletext = document.createElement('div');\n    titletext.classList = 'ui-dialog-title';\n    titletext.setAttribute(\n        'style',\n        'width: 100%; text-align: center; padding: 3px;'\n    );\n    titlebar.appendChild(titletext);\n    this.root.appendChild(titlebar);\n    this.header = titletext;\n};\n\nmpl.figure.prototype._canvas_extra_style = function (_canvas_div) {};\n\nmpl.figure.prototype._root_extra_style = function (_canvas_div) {};\n\nmpl.figure.prototype._init_canvas = function () {\n    var fig = this;\n\n    var canvas_div = (this.canvas_div = document.createElement('div'));\n    canvas_div.setAttribute('tabindex', '0');\n    canvas_div.setAttribute(\n        'style',\n        'border: 1px solid #ddd;' +\n            'box-sizing: content-box;' +\n            'clear: both;' +\n            'min-height: 1px;' +\n            'min-width: 1px;' +\n            'outline: 0;' +\n            'overflow: hidden;' +\n            'position: relative;' +\n            'resize: both;' +\n            'z-index: 2;'\n    );\n\n    function on_keyboard_event_closure(name) {\n        return function (event) {\n            return fig.key_event(event, name);\n        };\n    }\n\n    canvas_div.addEventListener(\n        'keydown',\n        on_keyboard_event_closure('key_press')\n    );\n    canvas_div.addEventListener(\n        'keyup',\n        on_keyboard_event_closure('key_release')\n    );\n\n    this._canvas_extra_style(canvas_div);\n    this.root.appendChild(canvas_div);\n\n    var canvas = (this.canvas = document.createElement('canvas'));\n    canvas.classList.add('mpl-canvas');\n    canvas.setAttribute(\n        'style',\n        'box-sizing: content-box;' +\n            'pointer-events: none;' +\n            'position: relative;' +\n            'z-index: 0;'\n    );\n\n    this.context = canvas.getContext('2d');\n\n    var backingStore =\n        this.context.backingStorePixelRatio ||\n        this.context.webkitBackingStorePixelRatio ||\n        this.context.mozBackingStorePixelRatio ||\n        this.context.msBackingStorePixelRatio ||\n        this.context.oBackingStorePixelRatio ||\n        this.context.backingStorePixelRatio ||\n        1;\n\n    this.ratio = (window.devicePixelRatio || 1) / backingStore;\n\n    var rubberband_canvas = (this.rubberband_canvas = document.createElement(\n        'canvas'\n    ));\n    rubberband_canvas.setAttribute(\n        'style',\n        'box-sizing: content-box;' +\n            'left: 0;' +\n            'pointer-events: none;' +\n            'position: absolute;' +\n            'top: 0;' +\n            'z-index: 1;'\n    );\n\n    // Apply a ponyfill if ResizeObserver is not implemented by browser.\n    if (this.ResizeObserver === undefined) {\n        if (window.ResizeObserver !== undefined) {\n            this.ResizeObserver = window.ResizeObserver;\n        } else {\n            var obs = _JSXTOOLS_RESIZE_OBSERVER({});\n            this.ResizeObserver = obs.ResizeObserver;\n        }\n    }\n\n    this.resizeObserverInstance = new this.ResizeObserver(function (entries) {\n        // There's no need to resize if the WebSocket is not connected:\n        // - If it is still connecting, then we will get an initial resize from\n        //   Python once it connects.\n        // - If it has disconnected, then resizing will clear the canvas and\n        //   never get anything back to refill it, so better to not resize and\n        //   keep something visible.\n        if (fig.ws.readyState != 1) {\n            return;\n        }\n        var nentries = entries.length;\n        for (var i = 0; i < nentries; i++) {\n            var entry = entries[i];\n            var width, height;\n            if (entry.contentBoxSize) {\n                if (entry.contentBoxSize instanceof Array) {\n                    // Chrome 84 implements new version of spec.\n                    width = entry.contentBoxSize[0].inlineSize;\n                    height = entry.contentBoxSize[0].blockSize;\n                } else {\n                    // Firefox implements old version of spec.\n                    width = entry.contentBoxSize.inlineSize;\n                    height = entry.contentBoxSize.blockSize;\n                }\n            } else {\n                // Chrome <84 implements even older version of spec.\n                width = entry.contentRect.width;\n                height = entry.contentRect.height;\n            }\n\n            // Keep the size of the canvas and rubber band canvas in sync with\n            // the canvas container.\n            if (entry.devicePixelContentBoxSize) {\n                // Chrome 84 implements new version of spec.\n                canvas.setAttribute(\n                    'width',\n                    entry.devicePixelContentBoxSize[0].inlineSize\n                );\n                canvas.setAttribute(\n                    'height',\n                    entry.devicePixelContentBoxSize[0].blockSize\n                );\n            } else {\n                canvas.setAttribute('width', width * fig.ratio);\n                canvas.setAttribute('height', height * fig.ratio);\n            }\n            /* This rescales the canvas back to display pixels, so that it\n             * appears correct on HiDPI screens. */\n            canvas.style.width = width + 'px';\n            canvas.style.height = height + 'px';\n\n            rubberband_canvas.setAttribute('width', width);\n            rubberband_canvas.setAttribute('height', height);\n\n            // And update the size in Python. We ignore the initial 0/0 size\n            // that occurs as the element is placed into the DOM, which should\n            // otherwise not happen due to the minimum size styling.\n            if (width != 0 && height != 0) {\n                fig.request_resize(width, height);\n            }\n        }\n    });\n    this.resizeObserverInstance.observe(canvas_div);\n\n    function on_mouse_event_closure(name) {\n        /* User Agent sniffing is bad, but WebKit is busted:\n         * https://bugs.webkit.org/show_bug.cgi?id=144526\n         * https://bugs.webkit.org/show_bug.cgi?id=181818\n         * The worst that happens here is that they get an extra browser\n         * selection when dragging, if this check fails to catch them.\n         */\n        var UA = navigator.userAgent;\n        var isWebKit = /AppleWebKit/.test(UA) && !/Chrome/.test(UA);\n        if(isWebKit) {\n            return function (event) {\n                /* This prevents the web browser from automatically changing to\n                 * the text insertion cursor when the button is pressed. We\n                 * want to control all of the cursor setting manually through\n                 * the 'cursor' event from matplotlib */\n                event.preventDefault()\n                return fig.mouse_event(event, name);\n            };\n        } else {\n            return function (event) {\n                return fig.mouse_event(event, name);\n            };\n        }\n    }\n\n    canvas_div.addEventListener(\n        'mousedown',\n        on_mouse_event_closure('button_press')\n    );\n    canvas_div.addEventListener(\n        'mouseup',\n        on_mouse_event_closure('button_release')\n    );\n    canvas_div.addEventListener(\n        'dblclick',\n        on_mouse_event_closure('dblclick')\n    );\n    // Throttle sequential mouse events to 1 every 20ms.\n    canvas_div.addEventListener(\n        'mousemove',\n        on_mouse_event_closure('motion_notify')\n    );\n\n    canvas_div.addEventListener(\n        'mouseenter',\n        on_mouse_event_closure('figure_enter')\n    );\n    canvas_div.addEventListener(\n        'mouseleave',\n        on_mouse_event_closure('figure_leave')\n    );\n\n    canvas_div.addEventListener('wheel', function (event) {\n        if (event.deltaY < 0) {\n            event.step = 1;\n        } else {\n            event.step = -1;\n        }\n        on_mouse_event_closure('scroll')(event);\n    });\n\n    canvas_div.appendChild(canvas);\n    canvas_div.appendChild(rubberband_canvas);\n\n    this.rubberband_context = rubberband_canvas.getContext('2d');\n    this.rubberband_context.strokeStyle = '#000000';\n\n    this._resize_canvas = function (width, height, forward) {\n        if (forward) {\n            canvas_div.style.width = width + 'px';\n            canvas_div.style.height = height + 'px';\n        }\n    };\n\n    // Disable right mouse context menu.\n    canvas_div.addEventListener('contextmenu', function (_e) {\n        event.preventDefault();\n        return false;\n    });\n\n    function set_focus() {\n        canvas.focus();\n        canvas_div.focus();\n    }\n\n    window.setTimeout(set_focus, 100);\n};\n\nmpl.figure.prototype._init_toolbar = function () {\n    var fig = this;\n\n    var toolbar = document.createElement('div');\n    toolbar.classList = 'mpl-toolbar';\n    this.root.appendChild(toolbar);\n\n    function on_click_closure(name) {\n        return function (_event) {\n            return fig.toolbar_button_onclick(name);\n        };\n    }\n\n    function on_mouseover_closure(tooltip) {\n        return function (event) {\n            if (!event.currentTarget.disabled) {\n                return fig.toolbar_button_onmouseover(tooltip);\n            }\n        };\n    }\n\n    fig.buttons = {};\n    var buttonGroup = document.createElement('div');\n    buttonGroup.classList = 'mpl-button-group';\n    for (var toolbar_ind in mpl.toolbar_items) {\n        var name = mpl.toolbar_items[toolbar_ind][0];\n        var tooltip = mpl.toolbar_items[toolbar_ind][1];\n        var image = mpl.toolbar_items[toolbar_ind][2];\n        var method_name = mpl.toolbar_items[toolbar_ind][3];\n\n        if (!name) {\n            /* Instead of a spacer, we start a new button group. */\n            if (buttonGroup.hasChildNodes()) {\n                toolbar.appendChild(buttonGroup);\n            }\n            buttonGroup = document.createElement('div');\n            buttonGroup.classList = 'mpl-button-group';\n            continue;\n        }\n\n        var button = (fig.buttons[name] = document.createElement('button'));\n        button.classList = 'mpl-widget';\n        button.setAttribute('role', 'button');\n        button.setAttribute('aria-disabled', 'false');\n        button.addEventListener('click', on_click_closure(method_name));\n        button.addEventListener('mouseover', on_mouseover_closure(tooltip));\n\n        var icon_img = document.createElement('img');\n        icon_img.src = '_images/' + image + '.png';\n        icon_img.srcset = '_images/' + image + '_large.png 2x';\n        icon_img.alt = tooltip;\n        button.appendChild(icon_img);\n\n        buttonGroup.appendChild(button);\n    }\n\n    if (buttonGroup.hasChildNodes()) {\n        toolbar.appendChild(buttonGroup);\n    }\n\n    var fmt_picker = document.createElement('select');\n    fmt_picker.classList = 'mpl-widget';\n    toolbar.appendChild(fmt_picker);\n    this.format_dropdown = fmt_picker;\n\n    for (var ind in mpl.extensions) {\n        var fmt = mpl.extensions[ind];\n        var option = document.createElement('option');\n        option.selected = fmt === mpl.default_extension;\n        option.innerHTML = fmt;\n        fmt_picker.appendChild(option);\n    }\n\n    var status_bar = document.createElement('span');\n    status_bar.classList = 'mpl-message';\n    toolbar.appendChild(status_bar);\n    this.message = status_bar;\n};\n\nmpl.figure.prototype.request_resize = function (x_pixels, y_pixels) {\n    // Request matplotlib to resize the figure. Matplotlib will then trigger a resize in the client,\n    // which will in turn request a refresh of the image.\n    this.send_message('resize', { width: x_pixels, height: y_pixels });\n};\n\nmpl.figure.prototype.send_message = function (type, properties) {\n    properties['type'] = type;\n    properties['figure_id'] = this.id;\n    this.ws.send(JSON.stringify(properties));\n};\n\nmpl.figure.prototype.send_draw_message = function () {\n    if (!this.waiting) {\n        this.waiting = true;\n        this.ws.send(JSON.stringify({ type: 'draw', figure_id: this.id }));\n    }\n};\n\nmpl.figure.prototype.handle_save = function (fig, _msg) {\n    var format_dropdown = fig.format_dropdown;\n    var format = format_dropdown.options[format_dropdown.selectedIndex].value;\n    fig.ondownload(fig, format);\n};\n\nmpl.figure.prototype.handle_resize = function (fig, msg) {\n    var size = msg['size'];\n    if (size[0] !== fig.canvas.width || size[1] !== fig.canvas.height) {\n        fig._resize_canvas(size[0], size[1], msg['forward']);\n        fig.send_message('refresh', {});\n    }\n};\n\nmpl.figure.prototype.handle_rubberband = function (fig, msg) {\n    var x0 = msg['x0'] / fig.ratio;\n    var y0 = (fig.canvas.height - msg['y0']) / fig.ratio;\n    var x1 = msg['x1'] / fig.ratio;\n    var y1 = (fig.canvas.height - msg['y1']) / fig.ratio;\n    x0 = Math.floor(x0) + 0.5;\n    y0 = Math.floor(y0) + 0.5;\n    x1 = Math.floor(x1) + 0.5;\n    y1 = Math.floor(y1) + 0.5;\n    var min_x = Math.min(x0, x1);\n    var min_y = Math.min(y0, y1);\n    var width = Math.abs(x1 - x0);\n    var height = Math.abs(y1 - y0);\n\n    fig.rubberband_context.clearRect(\n        0,\n        0,\n        fig.canvas.width / fig.ratio,\n        fig.canvas.height / fig.ratio\n    );\n\n    fig.rubberband_context.strokeRect(min_x, min_y, width, height);\n};\n\nmpl.figure.prototype.handle_figure_label = function (fig, msg) {\n    // Updates the figure title.\n    fig.header.textContent = msg['label'];\n};\n\nmpl.figure.prototype.handle_cursor = function (fig, msg) {\n    fig.canvas_div.style.cursor = msg['cursor'];\n};\n\nmpl.figure.prototype.handle_message = function (fig, msg) {\n    fig.message.textContent = msg['message'];\n};\n\nmpl.figure.prototype.handle_draw = function (fig, _msg) {\n    // Request the server to send over a new figure.\n    fig.send_draw_message();\n};\n\nmpl.figure.prototype.handle_image_mode = function (fig, msg) {\n    fig.image_mode = msg['mode'];\n};\n\nmpl.figure.prototype.handle_history_buttons = function (fig, msg) {\n    for (var key in msg) {\n        if (!(key in fig.buttons)) {\n            continue;\n        }\n        fig.buttons[key].disabled = !msg[key];\n        fig.buttons[key].setAttribute('aria-disabled', !msg[key]);\n    }\n};\n\nmpl.figure.prototype.handle_navigate_mode = function (fig, msg) {\n    if (msg['mode'] === 'PAN') {\n        fig.buttons['Pan'].classList.add('active');\n        fig.buttons['Zoom'].classList.remove('active');\n    } else if (msg['mode'] === 'ZOOM') {\n        fig.buttons['Pan'].classList.remove('active');\n        fig.buttons['Zoom'].classList.add('active');\n    } else {\n        fig.buttons['Pan'].classList.remove('active');\n        fig.buttons['Zoom'].classList.remove('active');\n    }\n};\n\nmpl.figure.prototype.updated_canvas_event = function () {\n    // Called whenever the canvas gets updated.\n    this.send_message('ack', {});\n};\n\n// A function to construct a web socket function for onmessage handling.\n// Called in the figure constructor.\nmpl.figure.prototype._make_on_message_function = function (fig) {\n    return function socket_on_message(evt) {\n        if (evt.data instanceof Blob) {\n            var img = evt.data;\n            if (img.type !== 'image/png') {\n                /* FIXME: We get \"Resource interpreted as Image but\n                 * transferred with MIME type text/plain:\" errors on\n                 * Chrome.  But how to set the MIME type?  It doesn't seem\n                 * to be part of the websocket stream */\n                img.type = 'image/png';\n            }\n\n            /* Free the memory for the previous frames */\n            if (fig.imageObj.src) {\n                (window.URL || window.webkitURL).revokeObjectURL(\n                    fig.imageObj.src\n                );\n            }\n\n            fig.imageObj.src = (window.URL || window.webkitURL).createObjectURL(\n                img\n            );\n            fig.updated_canvas_event();\n            fig.waiting = false;\n            return;\n        } else if (\n            typeof evt.data === 'string' &&\n            evt.data.slice(0, 21) === 'data:image/png;base64'\n        ) {\n            fig.imageObj.src = evt.data;\n            fig.updated_canvas_event();\n            fig.waiting = false;\n            return;\n        }\n\n        var msg = JSON.parse(evt.data);\n        var msg_type = msg['type'];\n\n        // Call the  \"handle_{type}\" callback, which takes\n        // the figure and JSON message as its only arguments.\n        try {\n            var callback = fig['handle_' + msg_type];\n        } catch (e) {\n            console.log(\n                \"No handler for the '\" + msg_type + \"' message type: \",\n                msg\n            );\n            return;\n        }\n\n        if (callback) {\n            try {\n                // console.log(\"Handling '\" + msg_type + \"' message: \", msg);\n                callback(fig, msg);\n            } catch (e) {\n                console.log(\n                    \"Exception inside the 'handler_\" + msg_type + \"' callback:\",\n                    e,\n                    e.stack,\n                    msg\n                );\n            }\n        }\n    };\n};\n\nfunction getModifiers(event) {\n    var mods = [];\n    if (event.ctrlKey) {\n        mods.push('ctrl');\n    }\n    if (event.altKey) {\n        mods.push('alt');\n    }\n    if (event.shiftKey) {\n        mods.push('shift');\n    }\n    if (event.metaKey) {\n        mods.push('meta');\n    }\n    return mods;\n}\n\n/*\n * return a copy of an object with only non-object keys\n * we need this to avoid circular references\n * https://stackoverflow.com/a/24161582/3208463\n */\nfunction simpleKeys(original) {\n    return Object.keys(original).reduce(function (obj, key) {\n        if (typeof original[key] !== 'object') {\n            obj[key] = original[key];\n        }\n        return obj;\n    }, {});\n}\n\nmpl.figure.prototype.mouse_event = function (event, name) {\n    if (name === 'button_press') {\n        this.canvas.focus();\n        this.canvas_div.focus();\n    }\n\n    // from https://stackoverflow.com/q/1114465\n    var boundingRect = this.canvas.getBoundingClientRect();\n    var x = (event.clientX - boundingRect.left) * this.ratio;\n    var y = (event.clientY - boundingRect.top) * this.ratio;\n\n    this.send_message(name, {\n        x: x,\n        y: y,\n        button: event.button,\n        step: event.step,\n        modifiers: getModifiers(event),\n        guiEvent: simpleKeys(event),\n    });\n\n    return false;\n};\n\nmpl.figure.prototype._key_event_extra = function (_event, _name) {\n    // Handle any extra behaviour associated with a key event\n};\n\nmpl.figure.prototype.key_event = function (event, name) {\n    // Prevent repeat events\n    if (name === 'key_press') {\n        if (event.key === this._key) {\n            return;\n        } else {\n            this._key = event.key;\n        }\n    }\n    if (name === 'key_release') {\n        this._key = null;\n    }\n\n    var value = '';\n    if (event.ctrlKey && event.key !== 'Control') {\n        value += 'ctrl+';\n    }\n    else if (event.altKey && event.key !== 'Alt') {\n        value += 'alt+';\n    }\n    else if (event.shiftKey && event.key !== 'Shift') {\n        value += 'shift+';\n    }\n\n    value += 'k' + event.key;\n\n    this._key_event_extra(event, name);\n\n    this.send_message(name, { key: value, guiEvent: simpleKeys(event) });\n    return false;\n};\n\nmpl.figure.prototype.toolbar_button_onclick = function (name) {\n    if (name === 'download') {\n        this.handle_save(this, null);\n    } else {\n        this.send_message('toolbar_button', { name: name });\n    }\n};\n\nmpl.figure.prototype.toolbar_button_onmouseover = function (tooltip) {\n    this.message.textContent = tooltip;\n};\n\n///////////////// REMAINING CONTENT GENERATED BY embed_js.py /////////////////\n// prettier-ignore\nvar _JSXTOOLS_RESIZE_OBSERVER=function(A){var t,i=new WeakMap,n=new WeakMap,a=new WeakMap,r=new WeakMap,o=new Set;function s(e){if(!(this instanceof s))throw new TypeError(\"Constructor requires 'new' operator\");i.set(this,e)}function h(){throw new TypeError(\"Function is not a constructor\")}function c(e,t,i,n){e=0 in arguments?Number(arguments[0]):0,t=1 in arguments?Number(arguments[1]):0,i=2 in arguments?Number(arguments[2]):0,n=3 in arguments?Number(arguments[3]):0,this.right=(this.x=this.left=e)+(this.width=i),this.bottom=(this.y=this.top=t)+(this.height=n),Object.freeze(this)}function d(){t=requestAnimationFrame(d);var s=new WeakMap,p=new Set;o.forEach((function(t){r.get(t).forEach((function(i){var r=t instanceof window.SVGElement,o=a.get(t),d=r?0:parseFloat(o.paddingTop),f=r?0:parseFloat(o.paddingRight),l=r?0:parseFloat(o.paddingBottom),u=r?0:parseFloat(o.paddingLeft),g=r?0:parseFloat(o.borderTopWidth),m=r?0:parseFloat(o.borderRightWidth),w=r?0:parseFloat(o.borderBottomWidth),b=u+f,F=d+l,v=(r?0:parseFloat(o.borderLeftWidth))+m,W=g+w,y=r?0:t.offsetHeight-W-t.clientHeight,E=r?0:t.offsetWidth-v-t.clientWidth,R=b+v,z=F+W,M=r?t.width:parseFloat(o.width)-R-E,O=r?t.height:parseFloat(o.height)-z-y;if(n.has(t)){var k=n.get(t);if(k[0]===M&&k[1]===O)return}n.set(t,[M,O]);var S=Object.create(h.prototype);S.target=t,S.contentRect=new c(u,d,M,O),s.has(i)||(s.set(i,[]),p.add(i)),s.get(i).push(S)}))})),p.forEach((function(e){i.get(e).call(e,s.get(e),e)}))}return s.prototype.observe=function(i){if(i instanceof window.Element){r.has(i)||(r.set(i,new Set),o.add(i),a.set(i,window.getComputedStyle(i)));var n=r.get(i);n.has(this)||n.add(this),cancelAnimationFrame(t),t=requestAnimationFrame(d)}},s.prototype.unobserve=function(i){if(i instanceof window.Element&&r.has(i)){var n=r.get(i);n.has(this)&&(n.delete(this),n.size||(r.delete(i),o.delete(i))),n.size||r.delete(i),o.size||cancelAnimationFrame(t)}},A.DOMRectReadOnly=c,A.ResizeObserver=s,A.ResizeObserverEntry=h,A}; // eslint-disable-line\nmpl.toolbar_items = [[\"Home\", \"Reset original view\", \"fa fa-home\", \"home\"], [\"Back\", \"Back to previous view\", \"fa fa-arrow-left\", \"back\"], [\"Forward\", \"Forward to next view\", \"fa fa-arrow-right\", \"forward\"], [\"\", \"\", \"\", \"\"], [\"Pan\", \"Left button pans, Right button zooms\\nx/y fixes axis, CTRL fixes aspect\", \"fa fa-arrows\", \"pan\"], [\"Zoom\", \"Zoom to rectangle\\nx/y fixes axis\", \"fa fa-square-o\", \"zoom\"], [\"\", \"\", \"\", \"\"], [\"Download\", \"Download plot\", \"fa fa-floppy-o\", \"download\"]];\n\nmpl.extensions = [\"eps\", \"jpeg\", \"pgf\", \"pdf\", \"png\", \"ps\", \"raw\", \"svg\", \"tif\", \"webp\"];\n\nmpl.default_extension = \"png\";/* global mpl */\n\nvar comm_websocket_adapter = function (comm) {\n    // Create a \"websocket\"-like object which calls the given IPython comm\n    // object with the appropriate methods. Currently this is a non binary\n    // socket, so there is still some room for performance tuning.\n    var ws = {};\n\n    ws.binaryType = comm.kernel.ws.binaryType;\n    ws.readyState = comm.kernel.ws.readyState;\n    function updateReadyState(_event) {\n        if (comm.kernel.ws) {\n            ws.readyState = comm.kernel.ws.readyState;\n        } else {\n            ws.readyState = 3; // Closed state.\n        }\n    }\n    comm.kernel.ws.addEventListener('open', updateReadyState);\n    comm.kernel.ws.addEventListener('close', updateReadyState);\n    comm.kernel.ws.addEventListener('error', updateReadyState);\n\n    ws.close = function () {\n        comm.close();\n    };\n    ws.send = function (m) {\n        //console.log('sending', m);\n        comm.send(m);\n    };\n    // Register the callback with on_msg.\n    comm.on_msg(function (msg) {\n        //console.log('receiving', msg['content']['data'], msg);\n        var data = msg['content']['data'];\n        if (data['blob'] !== undefined) {\n            data = {\n                data: new Blob(msg['buffers'], { type: data['blob'] }),\n            };\n        }\n        // Pass the mpl event to the overridden (by mpl) onmessage function.\n        ws.onmessage(data);\n    });\n    return ws;\n};\n\nmpl.mpl_figure_comm = function (comm, msg) {\n    // This is the function which gets called when the mpl process\n    // starts-up an IPython Comm through the \"matplotlib\" channel.\n\n    var id = msg.content.data.id;\n    // Get hold of the div created by the display call when the Comm\n    // socket was opened in Python.\n    var element = document.getElementById(id);\n    var ws_proxy = comm_websocket_adapter(comm);\n\n    function ondownload(figure, _format) {\n        window.open(figure.canvas.toDataURL());\n    }\n\n    var fig = new mpl.figure(id, ws_proxy, ondownload, element);\n\n    // Call onopen now - mpl needs it, as it is assuming we've passed it a real\n    // web socket which is closed, not our websocket->open comm proxy.\n    ws_proxy.onopen();\n\n    fig.parent_element = element;\n    fig.cell_info = mpl.find_output_cell(\"<div id='\" + id + \"'></div>\");\n    if (!fig.cell_info) {\n        console.error('Failed to find cell for figure', id, fig);\n        return;\n    }\n    fig.cell_info[0].output_area.element.on(\n        'cleared',\n        { fig: fig },\n        fig._remove_fig_handler\n    );\n};\n\nmpl.figure.prototype.handle_close = function (fig, msg) {\n    var width = fig.canvas.width / fig.ratio;\n    fig.cell_info[0].output_area.element.off(\n        'cleared',\n        fig._remove_fig_handler\n    );\n    fig.resizeObserverInstance.unobserve(fig.canvas_div);\n\n    // Update the output cell to use the data from the current canvas.\n    fig.push_to_output();\n    var dataURL = fig.canvas.toDataURL();\n    // Re-enable the keyboard manager in IPython - without this line, in FF,\n    // the notebook keyboard shortcuts fail.\n    IPython.keyboard_manager.enable();\n    fig.parent_element.innerHTML =\n        '<img src=\"' + dataURL + '\" width=\"' + width + '\">';\n    fig.close_ws(fig, msg);\n};\n\nmpl.figure.prototype.close_ws = function (fig, msg) {\n    fig.send_message('closing', msg);\n    // fig.ws.close()\n};\n\nmpl.figure.prototype.push_to_output = function (_remove_interactive) {\n    // Turn the data on the canvas into data in the output cell.\n    var width = this.canvas.width / this.ratio;\n    var dataURL = this.canvas.toDataURL();\n    this.cell_info[1]['text/html'] =\n        '<img src=\"' + dataURL + '\" width=\"' + width + '\">';\n};\n\nmpl.figure.prototype.updated_canvas_event = function () {\n    // Tell IPython that the notebook contents must change.\n    IPython.notebook.set_dirty(true);\n    this.send_message('ack', {});\n    var fig = this;\n    // Wait a second, then push the new image to the DOM so\n    // that it is saved nicely (might be nice to debounce this).\n    setTimeout(function () {\n        fig.push_to_output();\n    }, 1000);\n};\n\nmpl.figure.prototype._init_toolbar = function () {\n    var fig = this;\n\n    var toolbar = document.createElement('div');\n    toolbar.classList = 'btn-toolbar';\n    this.root.appendChild(toolbar);\n\n    function on_click_closure(name) {\n        return function (_event) {\n            return fig.toolbar_button_onclick(name);\n        };\n    }\n\n    function on_mouseover_closure(tooltip) {\n        return function (event) {\n            if (!event.currentTarget.disabled) {\n                return fig.toolbar_button_onmouseover(tooltip);\n            }\n        };\n    }\n\n    fig.buttons = {};\n    var buttonGroup = document.createElement('div');\n    buttonGroup.classList = 'btn-group';\n    var button;\n    for (var toolbar_ind in mpl.toolbar_items) {\n        var name = mpl.toolbar_items[toolbar_ind][0];\n        var tooltip = mpl.toolbar_items[toolbar_ind][1];\n        var image = mpl.toolbar_items[toolbar_ind][2];\n        var method_name = mpl.toolbar_items[toolbar_ind][3];\n\n        if (!name) {\n            /* Instead of a spacer, we start a new button group. */\n            if (buttonGroup.hasChildNodes()) {\n                toolbar.appendChild(buttonGroup);\n            }\n            buttonGroup = document.createElement('div');\n            buttonGroup.classList = 'btn-group';\n            continue;\n        }\n\n        button = fig.buttons[name] = document.createElement('button');\n        button.classList = 'btn btn-default';\n        button.href = '#';\n        button.title = name;\n        button.innerHTML = '<i class=\"fa ' + image + ' fa-lg\"></i>';\n        button.addEventListener('click', on_click_closure(method_name));\n        button.addEventListener('mouseover', on_mouseover_closure(tooltip));\n        buttonGroup.appendChild(button);\n    }\n\n    if (buttonGroup.hasChildNodes()) {\n        toolbar.appendChild(buttonGroup);\n    }\n\n    // Add the status bar.\n    var status_bar = document.createElement('span');\n    status_bar.classList = 'mpl-message pull-right';\n    toolbar.appendChild(status_bar);\n    this.message = status_bar;\n\n    // Add the close button to the window.\n    var buttongrp = document.createElement('div');\n    buttongrp.classList = 'btn-group inline pull-right';\n    button = document.createElement('button');\n    button.classList = 'btn btn-mini btn-primary';\n    button.href = '#';\n    button.title = 'Stop Interaction';\n    button.innerHTML = '<i class=\"fa fa-power-off icon-remove icon-large\"></i>';\n    button.addEventListener('click', function (_evt) {\n        fig.handle_close(fig, {});\n    });\n    button.addEventListener(\n        'mouseover',\n        on_mouseover_closure('Stop Interaction')\n    );\n    buttongrp.appendChild(button);\n    var titlebar = this.root.querySelector('.ui-dialog-titlebar');\n    titlebar.insertBefore(buttongrp, titlebar.firstChild);\n};\n\nmpl.figure.prototype._remove_fig_handler = function (event) {\n    var fig = event.data.fig;\n    if (event.target !== this) {\n        // Ignore bubbled events from children.\n        return;\n    }\n    fig.close_ws(fig, {});\n};\n\nmpl.figure.prototype._root_extra_style = function (el) {\n    el.style.boxSizing = 'content-box'; // override notebook setting of border-box.\n};\n\nmpl.figure.prototype._canvas_extra_style = function (el) {\n    // this is important to make the div 'focusable\n    el.setAttribute('tabindex', 0);\n    // reach out to IPython and tell the keyboard manager to turn it's self\n    // off when our div gets focus\n\n    // location in version 3\n    if (IPython.notebook.keyboard_manager) {\n        IPython.notebook.keyboard_manager.register_events(el);\n    } else {\n        // location in version 2\n        IPython.keyboard_manager.register_events(el);\n    }\n};\n\nmpl.figure.prototype._key_event_extra = function (event, _name) {\n    // Check for shift+enter\n    if (event.shiftKey && event.which === 13) {\n        this.canvas_div.blur();\n        // select the cell after this one\n        var index = IPython.notebook.find_cell_index(this.cell_info[0]);\n        IPython.notebook.select(index + 1);\n    }\n};\n\nmpl.figure.prototype.handle_save = function (fig, _msg) {\n    fig.ondownload(fig, null);\n};\n\nmpl.find_output_cell = function (html_output) {\n    // Return the cell and output element which can be found *uniquely* in the notebook.\n    // Note - this is a bit hacky, but it is done because the \"notebook_saving.Notebook\"\n    // IPython event is triggered only after the cells have been serialised, which for\n    // our purposes (turning an active figure into a static one), is too late.\n    var cells = IPython.notebook.get_cells();\n    var ncells = cells.length;\n    for (var i = 0; i < ncells; i++) {\n        var cell = cells[i];\n        if (cell.cell_type === 'code') {\n            for (var j = 0; j < cell.output_area.outputs.length; j++) {\n                var data = cell.output_area.outputs[j];\n                if (data.data) {\n                    // IPython >= 3 moved mimebundle to data attribute of output\n                    data = data.data;\n                }\n                if (data['text/html'] === html_output) {\n                    return [cell, data, j];\n                }\n            }\n        }\n    }\n};\n\n// Register the function which deals with the matplotlib target/channel.\n// The kernel may be null if the page has been refreshed.\nif (IPython.notebook.kernel !== null) {\n    IPython.notebook.kernel.comm_manager.register_target(\n        'matplotlib',\n        mpl.mpl_figure_comm\n    );\n}\n"
     },
     "metadata": {},
     "output_type": "display_data"
    },
    {
     "data": {
      "text/plain": [
       "<IPython.core.display.HTML object>"
      ],
      "text/html": [
       "<div id='2ae16330-77b6-4639-adbb-8dc4da3364a2'></div>"
      ]
     },
     "metadata": {},
     "output_type": "display_data"
    }
   ],
   "execution_count": 17
  },
  {
   "cell_type": "markdown",
   "id": "6b9105b9e5bac054",
   "metadata": {},
   "source": [
    "### Training"
   ]
  },
  {
   "cell_type": "code",
   "execution_count": null,
   "id": "a99006efa4cfe06f",
   "metadata": {},
   "outputs": [],
   "source": [
    "# Training\n",
    "# Warning: carefully set last in order to avoid loosing checkpoints\n",
    "N_epochs = 10\n",
    "Save_Every_N_epochs = 10\n",
    "Show_Every_N_epochs = 1\n",
    "last = train_model(classifier, train_dataloader, test_dataloader_iter, \n",
    "                   N_epochs, Show_Every_N_epochs, Save_Every_N_epochs,\n",
    "                   last, train_figure, train_ax)"
   ]
  },
  {
   "cell_type": "markdown",
   "id": "6feb3fc60659787c",
   "metadata": {},
   "source": [
    "## Evaluation"
   ]
  },
  {
   "cell_type": "markdown",
   "id": "13be8f4ca6939bbd",
   "metadata": {},
   "source": [
    "### Checkpoint Evaluation"
   ]
  },
  {
   "cell_type": "code",
   "id": "7d34ea948ad5818d",
   "metadata": {
    "ExecuteTime": {
     "end_time": "2024-12-18T14:57:11.882335Z",
     "start_time": "2024-12-18T14:56:40.867414Z"
    }
   },
   "source": [
    "# Finding the best-performing checkpoint in the validation set\n",
    "validation_data = test_dataset_handler[:]\n",
    "scores = []\n",
    "start_checkpoint = 6\n",
    "end_checkpoint = 9\n",
    "for checkpoint in range(start_checkpoint, end_checkpoint + 1):\n",
    "    inference_classifier = MainModel(resnet_skeleton)\n",
    "    inference_classifier.load_state_dict(torch.load(os.path.join(rf'checkpoints/model_chckpt{checkpoint}.pth')))\n",
    "    with torch.no_grad():\n",
    "        inference_classifier.setup_input(validation_data)\n",
    "        inference_classifier.forward()\n",
    "    predicted = np.argmax(functional.softmax(inference_classifier.prediction.detach().cpu(), dim=1), axis=1)\n",
    "    labels = np.argmax(validation_data[1], axis=1)\n",
    "    score = f1_score(labels, predicted, average='weighted')\n",
    "    scores.append((checkpoint, score))"
   ],
   "outputs": [
    {
     "name": "stdout",
     "output_type": "stream",
     "text": [
      "Model initialized with norm initialization.\n"
     ]
    },
    {
     "name": "stderr",
     "output_type": "stream",
     "text": [
      "C:\\Users\\Josue\\AppData\\Local\\Temp\\ipykernel_21408\\555535569.py:8: FutureWarning: You are using `torch.load` with `weights_only=False` (the current default value), which uses the default pickle module implicitly. It is possible to construct malicious pickle data which will execute arbitrary code during unpickling (See https://github.com/pytorch/pytorch/blob/main/SECURITY.md#untrusted-models for more details). In a future release, the default value for `weights_only` will be flipped to `True`. This limits the functions that could be executed during unpickling. Arbitrary objects will no longer be allowed to be loaded via this mode unless they are explicitly allowlisted by the user via `torch.serialization.add_safe_globals`. We recommend you start setting `weights_only=True` for any use case where you don't have full control of the loaded file. Please open an issue on GitHub for any issues related to this experimental feature.\n",
      "  inference_classifier.load_state_dict(torch.load(os.path.join(rf'checkpoints/model_chckpt{checkpoint}.pth')))\n"
     ]
    },
    {
     "name": "stdout",
     "output_type": "stream",
     "text": [
      "Model initialized with norm initialization.\n"
     ]
    },
    {
     "name": "stderr",
     "output_type": "stream",
     "text": [
      "C:\\Users\\Josue\\AppData\\Local\\Temp\\ipykernel_21408\\555535569.py:8: FutureWarning: You are using `torch.load` with `weights_only=False` (the current default value), which uses the default pickle module implicitly. It is possible to construct malicious pickle data which will execute arbitrary code during unpickling (See https://github.com/pytorch/pytorch/blob/main/SECURITY.md#untrusted-models for more details). In a future release, the default value for `weights_only` will be flipped to `True`. This limits the functions that could be executed during unpickling. Arbitrary objects will no longer be allowed to be loaded via this mode unless they are explicitly allowlisted by the user via `torch.serialization.add_safe_globals`. We recommend you start setting `weights_only=True` for any use case where you don't have full control of the loaded file. Please open an issue on GitHub for any issues related to this experimental feature.\n",
      "  inference_classifier.load_state_dict(torch.load(os.path.join(rf'checkpoints/model_chckpt{checkpoint}.pth')))\n"
     ]
    },
    {
     "name": "stdout",
     "output_type": "stream",
     "text": [
      "Model initialized with norm initialization.\n"
     ]
    },
    {
     "name": "stderr",
     "output_type": "stream",
     "text": [
      "C:\\Users\\Josue\\AppData\\Local\\Temp\\ipykernel_21408\\555535569.py:8: FutureWarning: You are using `torch.load` with `weights_only=False` (the current default value), which uses the default pickle module implicitly. It is possible to construct malicious pickle data which will execute arbitrary code during unpickling (See https://github.com/pytorch/pytorch/blob/main/SECURITY.md#untrusted-models for more details). In a future release, the default value for `weights_only` will be flipped to `True`. This limits the functions that could be executed during unpickling. Arbitrary objects will no longer be allowed to be loaded via this mode unless they are explicitly allowlisted by the user via `torch.serialization.add_safe_globals`. We recommend you start setting `weights_only=True` for any use case where you don't have full control of the loaded file. Please open an issue on GitHub for any issues related to this experimental feature.\n",
      "  inference_classifier.load_state_dict(torch.load(os.path.join(rf'checkpoints/model_chckpt{checkpoint}.pth')))\n"
     ]
    },
    {
     "name": "stdout",
     "output_type": "stream",
     "text": [
      "Model initialized with norm initialization.\n"
     ]
    },
    {
     "name": "stderr",
     "output_type": "stream",
     "text": [
      "C:\\Users\\Josue\\AppData\\Local\\Temp\\ipykernel_21408\\555535569.py:8: FutureWarning: You are using `torch.load` with `weights_only=False` (the current default value), which uses the default pickle module implicitly. It is possible to construct malicious pickle data which will execute arbitrary code during unpickling (See https://github.com/pytorch/pytorch/blob/main/SECURITY.md#untrusted-models for more details). In a future release, the default value for `weights_only` will be flipped to `True`. This limits the functions that could be executed during unpickling. Arbitrary objects will no longer be allowed to be loaded via this mode unless they are explicitly allowlisted by the user via `torch.serialization.add_safe_globals`. We recommend you start setting `weights_only=True` for any use case where you don't have full control of the loaded file. Please open an issue on GitHub for any issues related to this experimental feature.\n",
      "  inference_classifier.load_state_dict(torch.load(os.path.join(rf'checkpoints/model_chckpt{checkpoint}.pth')))\n"
     ]
    }
   ],
   "execution_count": 18
  },
  {
   "cell_type": "code",
   "id": "1ccec4a7778926d9",
   "metadata": {
    "ExecuteTime": {
     "end_time": "2024-12-18T14:57:14.751297Z",
     "start_time": "2024-12-18T14:57:14.742628Z"
    }
   },
   "source": [
    "# Defining the best checkpoint\n",
    "best = scores[0]\n",
    "for score in scores[1:]:\n",
    "    if score[1] > best[1]:\n",
    "        best = score\n",
    "print(f'Best performance observed at validation set is found for checkpoint {best[0]}, with an score of {best[1]:.2f}.')"
   ],
   "outputs": [
    {
     "name": "stdout",
     "output_type": "stream",
     "text": [
      "Best performance observed at validation set is found for checkpoint 8, with an score of 0.99.\n"
     ]
    }
   ],
   "execution_count": 19
  },
  {
   "cell_type": "markdown",
   "id": "11ec97c8f97120c1",
   "metadata": {},
   "source": [
    "### Best Model Results"
   ]
  },
  {
   "cell_type": "code",
   "id": "a184d9201b3926d2",
   "metadata": {
    "ExecuteTime": {
     "end_time": "2024-12-18T14:58:27.740100Z",
     "start_time": "2024-12-18T14:58:25.892345Z"
    }
   },
   "source": [
    "# Load checkpoint and get predictions\n",
    "best_classifier = MainModel(resnet_skeleton)\n",
    "best_classifier.load_state_dict(torch.load(os.path.join(rf'checkpoints/model_chckpt{best[0]}.pth')))\n",
    "with torch.no_grad():\n",
    "    best_classifier.setup_input(validation_data)\n",
    "    best_classifier.forward()\n",
    "predicted = np.argmax(functional.softmax(best_classifier.prediction.detach().cpu(), dim=1), axis=1)\n",
    "labels = np.argmax(validation_data[1], axis=1)"
   ],
   "outputs": [
    {
     "name": "stdout",
     "output_type": "stream",
     "text": [
      "Model initialized with norm initialization.\n"
     ]
    },
    {
     "name": "stderr",
     "output_type": "stream",
     "text": [
      "C:\\Users\\Josue\\AppData\\Local\\Temp\\ipykernel_21408\\4077524128.py:3: FutureWarning: You are using `torch.load` with `weights_only=False` (the current default value), which uses the default pickle module implicitly. It is possible to construct malicious pickle data which will execute arbitrary code during unpickling (See https://github.com/pytorch/pytorch/blob/main/SECURITY.md#untrusted-models for more details). In a future release, the default value for `weights_only` will be flipped to `True`. This limits the functions that could be executed during unpickling. Arbitrary objects will no longer be allowed to be loaded via this mode unless they are explicitly allowlisted by the user via `torch.serialization.add_safe_globals`. We recommend you start setting `weights_only=True` for any use case where you don't have full control of the loaded file. Please open an issue on GitHub for any issues related to this experimental feature.\n",
      "  best_classifier.load_state_dict(torch.load(os.path.join(rf'checkpoints/model_chckpt{best[0]}.pth')))\n"
     ]
    },
    {
     "ename": "RuntimeError",
     "evalue": "Could not allocate tensor with 1342177280 bytes. There is not enough GPU video memory available!",
     "output_type": "error",
     "traceback": [
      "\u001B[1;31m---------------------------------------------------------------------------\u001B[0m",
      "\u001B[1;31mRuntimeError\u001B[0m                              Traceback (most recent call last)",
      "Cell \u001B[1;32mIn[26], line 6\u001B[0m\n\u001B[0;32m      4\u001B[0m \u001B[38;5;28;01mwith\u001B[39;00m torch\u001B[38;5;241m.\u001B[39mno_grad():\n\u001B[0;32m      5\u001B[0m     best_classifier\u001B[38;5;241m.\u001B[39msetup_input(validation_data)\n\u001B[1;32m----> 6\u001B[0m     best_classifier\u001B[38;5;241m.\u001B[39mforward()\n\u001B[0;32m      7\u001B[0m predicted \u001B[38;5;241m=\u001B[39m np\u001B[38;5;241m.\u001B[39margmax(functional\u001B[38;5;241m.\u001B[39msoftmax(best_classifier\u001B[38;5;241m.\u001B[39mprediction\u001B[38;5;241m.\u001B[39mdetach()\u001B[38;5;241m.\u001B[39mcpu(), dim\u001B[38;5;241m=\u001B[39m\u001B[38;5;241m1\u001B[39m), axis\u001B[38;5;241m=\u001B[39m\u001B[38;5;241m1\u001B[39m)\n\u001B[0;32m      8\u001B[0m labels \u001B[38;5;241m=\u001B[39m np\u001B[38;5;241m.\u001B[39margmax(validation_data[\u001B[38;5;241m1\u001B[39m], axis\u001B[38;5;241m=\u001B[39m\u001B[38;5;241m1\u001B[39m)\n",
      "Cell \u001B[1;32mIn[14], line 19\u001B[0m, in \u001B[0;36mMainModel.forward\u001B[1;34m(self)\u001B[0m\n\u001B[0;32m     18\u001B[0m \u001B[38;5;28;01mdef\u001B[39;00m \u001B[38;5;21mforward\u001B[39m(\u001B[38;5;28mself\u001B[39m):\n\u001B[1;32m---> 19\u001B[0m     \u001B[38;5;28mself\u001B[39m\u001B[38;5;241m.\u001B[39mprediction \u001B[38;5;241m=\u001B[39m \u001B[38;5;28mself\u001B[39m\u001B[38;5;241m.\u001B[39mnet(\u001B[38;5;28mself\u001B[39m\u001B[38;5;241m.\u001B[39minput)\n",
      "File \u001B[1;32m~\\anaconda3\\envs\\pib\\Lib\\site-packages\\torch\\nn\\modules\\module.py:1553\u001B[0m, in \u001B[0;36mModule._wrapped_call_impl\u001B[1;34m(self, *args, **kwargs)\u001B[0m\n\u001B[0;32m   1551\u001B[0m     \u001B[38;5;28;01mreturn\u001B[39;00m \u001B[38;5;28mself\u001B[39m\u001B[38;5;241m.\u001B[39m_compiled_call_impl(\u001B[38;5;241m*\u001B[39margs, \u001B[38;5;241m*\u001B[39m\u001B[38;5;241m*\u001B[39mkwargs)  \u001B[38;5;66;03m# type: ignore[misc]\u001B[39;00m\n\u001B[0;32m   1552\u001B[0m \u001B[38;5;28;01melse\u001B[39;00m:\n\u001B[1;32m-> 1553\u001B[0m     \u001B[38;5;28;01mreturn\u001B[39;00m \u001B[38;5;28mself\u001B[39m\u001B[38;5;241m.\u001B[39m_call_impl(\u001B[38;5;241m*\u001B[39margs, \u001B[38;5;241m*\u001B[39m\u001B[38;5;241m*\u001B[39mkwargs)\n",
      "File \u001B[1;32m~\\anaconda3\\envs\\pib\\Lib\\site-packages\\torch\\nn\\modules\\module.py:1562\u001B[0m, in \u001B[0;36mModule._call_impl\u001B[1;34m(self, *args, **kwargs)\u001B[0m\n\u001B[0;32m   1557\u001B[0m \u001B[38;5;66;03m# If we don't have any hooks, we want to skip the rest of the logic in\u001B[39;00m\n\u001B[0;32m   1558\u001B[0m \u001B[38;5;66;03m# this function, and just call forward.\u001B[39;00m\n\u001B[0;32m   1559\u001B[0m \u001B[38;5;28;01mif\u001B[39;00m \u001B[38;5;129;01mnot\u001B[39;00m (\u001B[38;5;28mself\u001B[39m\u001B[38;5;241m.\u001B[39m_backward_hooks \u001B[38;5;129;01mor\u001B[39;00m \u001B[38;5;28mself\u001B[39m\u001B[38;5;241m.\u001B[39m_backward_pre_hooks \u001B[38;5;129;01mor\u001B[39;00m \u001B[38;5;28mself\u001B[39m\u001B[38;5;241m.\u001B[39m_forward_hooks \u001B[38;5;129;01mor\u001B[39;00m \u001B[38;5;28mself\u001B[39m\u001B[38;5;241m.\u001B[39m_forward_pre_hooks\n\u001B[0;32m   1560\u001B[0m         \u001B[38;5;129;01mor\u001B[39;00m _global_backward_pre_hooks \u001B[38;5;129;01mor\u001B[39;00m _global_backward_hooks\n\u001B[0;32m   1561\u001B[0m         \u001B[38;5;129;01mor\u001B[39;00m _global_forward_hooks \u001B[38;5;129;01mor\u001B[39;00m _global_forward_pre_hooks):\n\u001B[1;32m-> 1562\u001B[0m     \u001B[38;5;28;01mreturn\u001B[39;00m forward_call(\u001B[38;5;241m*\u001B[39margs, \u001B[38;5;241m*\u001B[39m\u001B[38;5;241m*\u001B[39mkwargs)\n\u001B[0;32m   1564\u001B[0m \u001B[38;5;28;01mtry\u001B[39;00m:\n\u001B[0;32m   1565\u001B[0m     result \u001B[38;5;241m=\u001B[39m \u001B[38;5;28;01mNone\u001B[39;00m\n",
      "Cell \u001B[1;32mIn[13], line 7\u001B[0m, in \u001B[0;36mCustomResNet18.forward\u001B[1;34m(self, input)\u001B[0m\n\u001B[0;32m      6\u001B[0m \u001B[38;5;28;01mdef\u001B[39;00m \u001B[38;5;21mforward\u001B[39m(\u001B[38;5;28mself\u001B[39m, \u001B[38;5;28minput\u001B[39m):\n\u001B[1;32m----> 7\u001B[0m     \u001B[38;5;28;01mreturn\u001B[39;00m \u001B[38;5;28mself\u001B[39m\u001B[38;5;241m.\u001B[39mclassifier(\u001B[38;5;28mself\u001B[39m\u001B[38;5;241m.\u001B[39mskeleton(\u001B[38;5;28minput\u001B[39m))\n",
      "File \u001B[1;32m~\\anaconda3\\envs\\pib\\Lib\\site-packages\\torch\\nn\\modules\\module.py:1553\u001B[0m, in \u001B[0;36mModule._wrapped_call_impl\u001B[1;34m(self, *args, **kwargs)\u001B[0m\n\u001B[0;32m   1551\u001B[0m     \u001B[38;5;28;01mreturn\u001B[39;00m \u001B[38;5;28mself\u001B[39m\u001B[38;5;241m.\u001B[39m_compiled_call_impl(\u001B[38;5;241m*\u001B[39margs, \u001B[38;5;241m*\u001B[39m\u001B[38;5;241m*\u001B[39mkwargs)  \u001B[38;5;66;03m# type: ignore[misc]\u001B[39;00m\n\u001B[0;32m   1552\u001B[0m \u001B[38;5;28;01melse\u001B[39;00m:\n\u001B[1;32m-> 1553\u001B[0m     \u001B[38;5;28;01mreturn\u001B[39;00m \u001B[38;5;28mself\u001B[39m\u001B[38;5;241m.\u001B[39m_call_impl(\u001B[38;5;241m*\u001B[39margs, \u001B[38;5;241m*\u001B[39m\u001B[38;5;241m*\u001B[39mkwargs)\n",
      "File \u001B[1;32m~\\anaconda3\\envs\\pib\\Lib\\site-packages\\torch\\nn\\modules\\module.py:1562\u001B[0m, in \u001B[0;36mModule._call_impl\u001B[1;34m(self, *args, **kwargs)\u001B[0m\n\u001B[0;32m   1557\u001B[0m \u001B[38;5;66;03m# If we don't have any hooks, we want to skip the rest of the logic in\u001B[39;00m\n\u001B[0;32m   1558\u001B[0m \u001B[38;5;66;03m# this function, and just call forward.\u001B[39;00m\n\u001B[0;32m   1559\u001B[0m \u001B[38;5;28;01mif\u001B[39;00m \u001B[38;5;129;01mnot\u001B[39;00m (\u001B[38;5;28mself\u001B[39m\u001B[38;5;241m.\u001B[39m_backward_hooks \u001B[38;5;129;01mor\u001B[39;00m \u001B[38;5;28mself\u001B[39m\u001B[38;5;241m.\u001B[39m_backward_pre_hooks \u001B[38;5;129;01mor\u001B[39;00m \u001B[38;5;28mself\u001B[39m\u001B[38;5;241m.\u001B[39m_forward_hooks \u001B[38;5;129;01mor\u001B[39;00m \u001B[38;5;28mself\u001B[39m\u001B[38;5;241m.\u001B[39m_forward_pre_hooks\n\u001B[0;32m   1560\u001B[0m         \u001B[38;5;129;01mor\u001B[39;00m _global_backward_pre_hooks \u001B[38;5;129;01mor\u001B[39;00m _global_backward_hooks\n\u001B[0;32m   1561\u001B[0m         \u001B[38;5;129;01mor\u001B[39;00m _global_forward_hooks \u001B[38;5;129;01mor\u001B[39;00m _global_forward_pre_hooks):\n\u001B[1;32m-> 1562\u001B[0m     \u001B[38;5;28;01mreturn\u001B[39;00m forward_call(\u001B[38;5;241m*\u001B[39margs, \u001B[38;5;241m*\u001B[39m\u001B[38;5;241m*\u001B[39mkwargs)\n\u001B[0;32m   1564\u001B[0m \u001B[38;5;28;01mtry\u001B[39;00m:\n\u001B[0;32m   1565\u001B[0m     result \u001B[38;5;241m=\u001B[39m \u001B[38;5;28;01mNone\u001B[39;00m\n",
      "File \u001B[1;32m~\\anaconda3\\envs\\pib\\Lib\\site-packages\\torch\\nn\\modules\\container.py:219\u001B[0m, in \u001B[0;36mSequential.forward\u001B[1;34m(self, input)\u001B[0m\n\u001B[0;32m    217\u001B[0m \u001B[38;5;28;01mdef\u001B[39;00m \u001B[38;5;21mforward\u001B[39m(\u001B[38;5;28mself\u001B[39m, \u001B[38;5;28minput\u001B[39m):\n\u001B[0;32m    218\u001B[0m     \u001B[38;5;28;01mfor\u001B[39;00m module \u001B[38;5;129;01min\u001B[39;00m \u001B[38;5;28mself\u001B[39m:\n\u001B[1;32m--> 219\u001B[0m         \u001B[38;5;28minput\u001B[39m \u001B[38;5;241m=\u001B[39m module(\u001B[38;5;28minput\u001B[39m)\n\u001B[0;32m    220\u001B[0m     \u001B[38;5;28;01mreturn\u001B[39;00m \u001B[38;5;28minput\u001B[39m\n",
      "File \u001B[1;32m~\\anaconda3\\envs\\pib\\Lib\\site-packages\\torch\\nn\\modules\\module.py:1553\u001B[0m, in \u001B[0;36mModule._wrapped_call_impl\u001B[1;34m(self, *args, **kwargs)\u001B[0m\n\u001B[0;32m   1551\u001B[0m     \u001B[38;5;28;01mreturn\u001B[39;00m \u001B[38;5;28mself\u001B[39m\u001B[38;5;241m.\u001B[39m_compiled_call_impl(\u001B[38;5;241m*\u001B[39margs, \u001B[38;5;241m*\u001B[39m\u001B[38;5;241m*\u001B[39mkwargs)  \u001B[38;5;66;03m# type: ignore[misc]\u001B[39;00m\n\u001B[0;32m   1552\u001B[0m \u001B[38;5;28;01melse\u001B[39;00m:\n\u001B[1;32m-> 1553\u001B[0m     \u001B[38;5;28;01mreturn\u001B[39;00m \u001B[38;5;28mself\u001B[39m\u001B[38;5;241m.\u001B[39m_call_impl(\u001B[38;5;241m*\u001B[39margs, \u001B[38;5;241m*\u001B[39m\u001B[38;5;241m*\u001B[39mkwargs)\n",
      "File \u001B[1;32m~\\anaconda3\\envs\\pib\\Lib\\site-packages\\torch\\nn\\modules\\module.py:1562\u001B[0m, in \u001B[0;36mModule._call_impl\u001B[1;34m(self, *args, **kwargs)\u001B[0m\n\u001B[0;32m   1557\u001B[0m \u001B[38;5;66;03m# If we don't have any hooks, we want to skip the rest of the logic in\u001B[39;00m\n\u001B[0;32m   1558\u001B[0m \u001B[38;5;66;03m# this function, and just call forward.\u001B[39;00m\n\u001B[0;32m   1559\u001B[0m \u001B[38;5;28;01mif\u001B[39;00m \u001B[38;5;129;01mnot\u001B[39;00m (\u001B[38;5;28mself\u001B[39m\u001B[38;5;241m.\u001B[39m_backward_hooks \u001B[38;5;129;01mor\u001B[39;00m \u001B[38;5;28mself\u001B[39m\u001B[38;5;241m.\u001B[39m_backward_pre_hooks \u001B[38;5;129;01mor\u001B[39;00m \u001B[38;5;28mself\u001B[39m\u001B[38;5;241m.\u001B[39m_forward_hooks \u001B[38;5;129;01mor\u001B[39;00m \u001B[38;5;28mself\u001B[39m\u001B[38;5;241m.\u001B[39m_forward_pre_hooks\n\u001B[0;32m   1560\u001B[0m         \u001B[38;5;129;01mor\u001B[39;00m _global_backward_pre_hooks \u001B[38;5;129;01mor\u001B[39;00m _global_backward_hooks\n\u001B[0;32m   1561\u001B[0m         \u001B[38;5;129;01mor\u001B[39;00m _global_forward_hooks \u001B[38;5;129;01mor\u001B[39;00m _global_forward_pre_hooks):\n\u001B[1;32m-> 1562\u001B[0m     \u001B[38;5;28;01mreturn\u001B[39;00m forward_call(\u001B[38;5;241m*\u001B[39margs, \u001B[38;5;241m*\u001B[39m\u001B[38;5;241m*\u001B[39mkwargs)\n\u001B[0;32m   1564\u001B[0m \u001B[38;5;28;01mtry\u001B[39;00m:\n\u001B[0;32m   1565\u001B[0m     result \u001B[38;5;241m=\u001B[39m \u001B[38;5;28;01mNone\u001B[39;00m\n",
      "Cell \u001B[1;32mIn[10], line 51\u001B[0m, in \u001B[0;36mStem.forward\u001B[1;34m(self, x)\u001B[0m\n\u001B[0;32m     50\u001B[0m \u001B[38;5;28;01mdef\u001B[39;00m \u001B[38;5;21mforward\u001B[39m(\u001B[38;5;28mself\u001B[39m, x):\n\u001B[1;32m---> 51\u001B[0m     \u001B[38;5;28;01mreturn\u001B[39;00m \u001B[38;5;28mself\u001B[39m\u001B[38;5;241m.\u001B[39msequential(x)\n",
      "File \u001B[1;32m~\\anaconda3\\envs\\pib\\Lib\\site-packages\\torch\\nn\\modules\\module.py:1553\u001B[0m, in \u001B[0;36mModule._wrapped_call_impl\u001B[1;34m(self, *args, **kwargs)\u001B[0m\n\u001B[0;32m   1551\u001B[0m     \u001B[38;5;28;01mreturn\u001B[39;00m \u001B[38;5;28mself\u001B[39m\u001B[38;5;241m.\u001B[39m_compiled_call_impl(\u001B[38;5;241m*\u001B[39margs, \u001B[38;5;241m*\u001B[39m\u001B[38;5;241m*\u001B[39mkwargs)  \u001B[38;5;66;03m# type: ignore[misc]\u001B[39;00m\n\u001B[0;32m   1552\u001B[0m \u001B[38;5;28;01melse\u001B[39;00m:\n\u001B[1;32m-> 1553\u001B[0m     \u001B[38;5;28;01mreturn\u001B[39;00m \u001B[38;5;28mself\u001B[39m\u001B[38;5;241m.\u001B[39m_call_impl(\u001B[38;5;241m*\u001B[39margs, \u001B[38;5;241m*\u001B[39m\u001B[38;5;241m*\u001B[39mkwargs)\n",
      "File \u001B[1;32m~\\anaconda3\\envs\\pib\\Lib\\site-packages\\torch\\nn\\modules\\module.py:1562\u001B[0m, in \u001B[0;36mModule._call_impl\u001B[1;34m(self, *args, **kwargs)\u001B[0m\n\u001B[0;32m   1557\u001B[0m \u001B[38;5;66;03m# If we don't have any hooks, we want to skip the rest of the logic in\u001B[39;00m\n\u001B[0;32m   1558\u001B[0m \u001B[38;5;66;03m# this function, and just call forward.\u001B[39;00m\n\u001B[0;32m   1559\u001B[0m \u001B[38;5;28;01mif\u001B[39;00m \u001B[38;5;129;01mnot\u001B[39;00m (\u001B[38;5;28mself\u001B[39m\u001B[38;5;241m.\u001B[39m_backward_hooks \u001B[38;5;129;01mor\u001B[39;00m \u001B[38;5;28mself\u001B[39m\u001B[38;5;241m.\u001B[39m_backward_pre_hooks \u001B[38;5;129;01mor\u001B[39;00m \u001B[38;5;28mself\u001B[39m\u001B[38;5;241m.\u001B[39m_forward_hooks \u001B[38;5;129;01mor\u001B[39;00m \u001B[38;5;28mself\u001B[39m\u001B[38;5;241m.\u001B[39m_forward_pre_hooks\n\u001B[0;32m   1560\u001B[0m         \u001B[38;5;129;01mor\u001B[39;00m _global_backward_pre_hooks \u001B[38;5;129;01mor\u001B[39;00m _global_backward_hooks\n\u001B[0;32m   1561\u001B[0m         \u001B[38;5;129;01mor\u001B[39;00m _global_forward_hooks \u001B[38;5;129;01mor\u001B[39;00m _global_forward_pre_hooks):\n\u001B[1;32m-> 1562\u001B[0m     \u001B[38;5;28;01mreturn\u001B[39;00m forward_call(\u001B[38;5;241m*\u001B[39margs, \u001B[38;5;241m*\u001B[39m\u001B[38;5;241m*\u001B[39mkwargs)\n\u001B[0;32m   1564\u001B[0m \u001B[38;5;28;01mtry\u001B[39;00m:\n\u001B[0;32m   1565\u001B[0m     result \u001B[38;5;241m=\u001B[39m \u001B[38;5;28;01mNone\u001B[39;00m\n",
      "File \u001B[1;32m~\\anaconda3\\envs\\pib\\Lib\\site-packages\\torch\\nn\\modules\\container.py:219\u001B[0m, in \u001B[0;36mSequential.forward\u001B[1;34m(self, input)\u001B[0m\n\u001B[0;32m    217\u001B[0m \u001B[38;5;28;01mdef\u001B[39;00m \u001B[38;5;21mforward\u001B[39m(\u001B[38;5;28mself\u001B[39m, \u001B[38;5;28minput\u001B[39m):\n\u001B[0;32m    218\u001B[0m     \u001B[38;5;28;01mfor\u001B[39;00m module \u001B[38;5;129;01min\u001B[39;00m \u001B[38;5;28mself\u001B[39m:\n\u001B[1;32m--> 219\u001B[0m         \u001B[38;5;28minput\u001B[39m \u001B[38;5;241m=\u001B[39m module(\u001B[38;5;28minput\u001B[39m)\n\u001B[0;32m    220\u001B[0m     \u001B[38;5;28;01mreturn\u001B[39;00m \u001B[38;5;28minput\u001B[39m\n",
      "File \u001B[1;32m~\\anaconda3\\envs\\pib\\Lib\\site-packages\\torch\\nn\\modules\\module.py:1553\u001B[0m, in \u001B[0;36mModule._wrapped_call_impl\u001B[1;34m(self, *args, **kwargs)\u001B[0m\n\u001B[0;32m   1551\u001B[0m     \u001B[38;5;28;01mreturn\u001B[39;00m \u001B[38;5;28mself\u001B[39m\u001B[38;5;241m.\u001B[39m_compiled_call_impl(\u001B[38;5;241m*\u001B[39margs, \u001B[38;5;241m*\u001B[39m\u001B[38;5;241m*\u001B[39mkwargs)  \u001B[38;5;66;03m# type: ignore[misc]\u001B[39;00m\n\u001B[0;32m   1552\u001B[0m \u001B[38;5;28;01melse\u001B[39;00m:\n\u001B[1;32m-> 1553\u001B[0m     \u001B[38;5;28;01mreturn\u001B[39;00m \u001B[38;5;28mself\u001B[39m\u001B[38;5;241m.\u001B[39m_call_impl(\u001B[38;5;241m*\u001B[39margs, \u001B[38;5;241m*\u001B[39m\u001B[38;5;241m*\u001B[39mkwargs)\n",
      "File \u001B[1;32m~\\anaconda3\\envs\\pib\\Lib\\site-packages\\torch\\nn\\modules\\module.py:1562\u001B[0m, in \u001B[0;36mModule._call_impl\u001B[1;34m(self, *args, **kwargs)\u001B[0m\n\u001B[0;32m   1557\u001B[0m \u001B[38;5;66;03m# If we don't have any hooks, we want to skip the rest of the logic in\u001B[39;00m\n\u001B[0;32m   1558\u001B[0m \u001B[38;5;66;03m# this function, and just call forward.\u001B[39;00m\n\u001B[0;32m   1559\u001B[0m \u001B[38;5;28;01mif\u001B[39;00m \u001B[38;5;129;01mnot\u001B[39;00m (\u001B[38;5;28mself\u001B[39m\u001B[38;5;241m.\u001B[39m_backward_hooks \u001B[38;5;129;01mor\u001B[39;00m \u001B[38;5;28mself\u001B[39m\u001B[38;5;241m.\u001B[39m_backward_pre_hooks \u001B[38;5;129;01mor\u001B[39;00m \u001B[38;5;28mself\u001B[39m\u001B[38;5;241m.\u001B[39m_forward_hooks \u001B[38;5;129;01mor\u001B[39;00m \u001B[38;5;28mself\u001B[39m\u001B[38;5;241m.\u001B[39m_forward_pre_hooks\n\u001B[0;32m   1560\u001B[0m         \u001B[38;5;129;01mor\u001B[39;00m _global_backward_pre_hooks \u001B[38;5;129;01mor\u001B[39;00m _global_backward_hooks\n\u001B[0;32m   1561\u001B[0m         \u001B[38;5;129;01mor\u001B[39;00m _global_forward_hooks \u001B[38;5;129;01mor\u001B[39;00m _global_forward_pre_hooks):\n\u001B[1;32m-> 1562\u001B[0m     \u001B[38;5;28;01mreturn\u001B[39;00m forward_call(\u001B[38;5;241m*\u001B[39margs, \u001B[38;5;241m*\u001B[39m\u001B[38;5;241m*\u001B[39mkwargs)\n\u001B[0;32m   1564\u001B[0m \u001B[38;5;28;01mtry\u001B[39;00m:\n\u001B[0;32m   1565\u001B[0m     result \u001B[38;5;241m=\u001B[39m \u001B[38;5;28;01mNone\u001B[39;00m\n",
      "File \u001B[1;32m~\\anaconda3\\envs\\pib\\Lib\\site-packages\\torch\\nn\\modules\\batchnorm.py:176\u001B[0m, in \u001B[0;36m_BatchNorm.forward\u001B[1;34m(self, input)\u001B[0m\n\u001B[0;32m    169\u001B[0m     bn_training \u001B[38;5;241m=\u001B[39m (\u001B[38;5;28mself\u001B[39m\u001B[38;5;241m.\u001B[39mrunning_mean \u001B[38;5;129;01mis\u001B[39;00m \u001B[38;5;28;01mNone\u001B[39;00m) \u001B[38;5;129;01mand\u001B[39;00m (\u001B[38;5;28mself\u001B[39m\u001B[38;5;241m.\u001B[39mrunning_var \u001B[38;5;129;01mis\u001B[39;00m \u001B[38;5;28;01mNone\u001B[39;00m)\n\u001B[0;32m    171\u001B[0m \u001B[38;5;250m\u001B[39m\u001B[38;5;124mr\u001B[39m\u001B[38;5;124;03m\"\"\"\u001B[39;00m\n\u001B[0;32m    172\u001B[0m \u001B[38;5;124;03mBuffers are only updated if they are to be tracked and we are in training mode. Thus they only need to be\u001B[39;00m\n\u001B[0;32m    173\u001B[0m \u001B[38;5;124;03mpassed when the update should occur (i.e. in training mode when they are tracked), or when buffer stats are\u001B[39;00m\n\u001B[0;32m    174\u001B[0m \u001B[38;5;124;03mused for normalization (i.e. in eval mode when buffers are not None).\u001B[39;00m\n\u001B[0;32m    175\u001B[0m \u001B[38;5;124;03m\"\"\"\u001B[39;00m\n\u001B[1;32m--> 176\u001B[0m \u001B[38;5;28;01mreturn\u001B[39;00m F\u001B[38;5;241m.\u001B[39mbatch_norm(\n\u001B[0;32m    177\u001B[0m     \u001B[38;5;28minput\u001B[39m,\n\u001B[0;32m    178\u001B[0m     \u001B[38;5;66;03m# If buffers are not to be tracked, ensure that they won't be updated\u001B[39;00m\n\u001B[0;32m    179\u001B[0m     \u001B[38;5;28mself\u001B[39m\u001B[38;5;241m.\u001B[39mrunning_mean\n\u001B[0;32m    180\u001B[0m     \u001B[38;5;28;01mif\u001B[39;00m \u001B[38;5;129;01mnot\u001B[39;00m \u001B[38;5;28mself\u001B[39m\u001B[38;5;241m.\u001B[39mtraining \u001B[38;5;129;01mor\u001B[39;00m \u001B[38;5;28mself\u001B[39m\u001B[38;5;241m.\u001B[39mtrack_running_stats\n\u001B[0;32m    181\u001B[0m     \u001B[38;5;28;01melse\u001B[39;00m \u001B[38;5;28;01mNone\u001B[39;00m,\n\u001B[0;32m    182\u001B[0m     \u001B[38;5;28mself\u001B[39m\u001B[38;5;241m.\u001B[39mrunning_var \u001B[38;5;28;01mif\u001B[39;00m \u001B[38;5;129;01mnot\u001B[39;00m \u001B[38;5;28mself\u001B[39m\u001B[38;5;241m.\u001B[39mtraining \u001B[38;5;129;01mor\u001B[39;00m \u001B[38;5;28mself\u001B[39m\u001B[38;5;241m.\u001B[39mtrack_running_stats \u001B[38;5;28;01melse\u001B[39;00m \u001B[38;5;28;01mNone\u001B[39;00m,\n\u001B[0;32m    183\u001B[0m     \u001B[38;5;28mself\u001B[39m\u001B[38;5;241m.\u001B[39mweight,\n\u001B[0;32m    184\u001B[0m     \u001B[38;5;28mself\u001B[39m\u001B[38;5;241m.\u001B[39mbias,\n\u001B[0;32m    185\u001B[0m     bn_training,\n\u001B[0;32m    186\u001B[0m     exponential_average_factor,\n\u001B[0;32m    187\u001B[0m     \u001B[38;5;28mself\u001B[39m\u001B[38;5;241m.\u001B[39meps,\n\u001B[0;32m    188\u001B[0m )\n",
      "File \u001B[1;32m~\\anaconda3\\envs\\pib\\Lib\\site-packages\\torch\\nn\\functional.py:2512\u001B[0m, in \u001B[0;36mbatch_norm\u001B[1;34m(input, running_mean, running_var, weight, bias, training, momentum, eps)\u001B[0m\n\u001B[0;32m   2509\u001B[0m \u001B[38;5;28;01mif\u001B[39;00m training:\n\u001B[0;32m   2510\u001B[0m     _verify_batch_size(\u001B[38;5;28minput\u001B[39m\u001B[38;5;241m.\u001B[39msize())\n\u001B[1;32m-> 2512\u001B[0m \u001B[38;5;28;01mreturn\u001B[39;00m torch\u001B[38;5;241m.\u001B[39mbatch_norm(\n\u001B[0;32m   2513\u001B[0m     \u001B[38;5;28minput\u001B[39m, weight, bias, running_mean, running_var, training, momentum, eps, torch\u001B[38;5;241m.\u001B[39mbackends\u001B[38;5;241m.\u001B[39mcudnn\u001B[38;5;241m.\u001B[39menabled\n\u001B[0;32m   2514\u001B[0m )\n",
      "\u001B[1;31mRuntimeError\u001B[0m: Could not allocate tensor with 1342177280 bytes. There is not enough GPU video memory available!"
     ]
    }
   ],
   "execution_count": 26
  },
  {
   "metadata": {
    "ExecuteTime": {
     "end_time": "2024-12-18T14:58:05.989430Z",
     "start_time": "2024-12-18T14:58:05.739341Z"
    }
   },
   "cell_type": "code",
   "source": "gc.collect()",
   "id": "9e9953fa26667c58",
   "outputs": [
    {
     "data": {
      "text/plain": [
       "1181"
      ]
     },
     "execution_count": 24,
     "metadata": {},
     "output_type": "execute_result"
    }
   ],
   "execution_count": 24
  },
  {
   "cell_type": "code",
   "execution_count": null,
   "id": "af936d6ae29f3abc",
   "metadata": {},
   "outputs": [],
   "source": [
    "# Function to plot the confusion matrix\n",
    "def plot_confusion_matrix(ground_truth, predictions, fig = None, ax = None):\n",
    "    c_mat = confusion_matrix(ground_truth, predictions, labels=np.arange(4)).astype(np.float64)\n",
    "    row_sums = c_mat.sum(axis=1)\n",
    "    for index in range(c_mat.shape[0]):\n",
    "        c_mat[index] /= row_sums[index]\n",
    "    if ax is not None:\n",
    "        ax.clear()\n",
    "    categories = list(map(lambda x: x[1], sorted(list(LABELS.items()), key=lambda x: x[0])))\n",
    "    sns.heatmap(c_mat, \n",
    "                xticklabels=categories, yticklabels=categories,\n",
    "                cmap='Blues',\n",
    "                fmt='.2%',\n",
    "                ax=ax,\n",
    "                cbar=False,\n",
    "                annot=True)\n",
    "    if fig is not None:\n",
    "        fig.tight_layout()\n",
    "        fig.show()"
   ]
  },
  {
   "cell_type": "code",
   "execution_count": null,
   "id": "cbcb273149912b0e",
   "metadata": {},
   "outputs": [],
   "source": [
    "# Show Confusion Matrix\n",
    "if 'fig_results' in globals():\n",
    "    plt.close('Results')\n",
    "fig_results = plt.figure(num='Results', figsize=(7,7))\n",
    "ax_results = fig_results.subplots(1,1)\n",
    "fig_results.suptitle('Results', fontsize=14, fontweight='bold')\n",
    "fig_results.supxlabel('Model Predictions')\n",
    "fig_results.supylabel('Ground Truth')\n",
    "plot_confusion_matrix(labels, predicted, fig_results, ax_results)"
   ]
  },
  {
   "cell_type": "code",
   "execution_count": null,
   "id": "626c637346d44f89",
   "metadata": {},
   "outputs": [],
   "source": [
    "# Show Report\n",
    "target_names = list(map(lambda x: x[1], sorted(list(LABELS.items()), key=lambda x: x[0])))\n",
    "report = classification_report(labels, predicted, target_names=target_names)\n",
    "score = f1_score(labels, predicted, average='weighted')\n",
    "accuracy = accuracy_score(labels, predicted)\n",
    "recall = recall_score(labels, predicted, average='weighted')\n",
    "precision = precision_score(labels, predicted, average='weighted')"
   ]
  },
  {
   "cell_type": "code",
   "execution_count": null,
   "id": "e2797f9a17f7e9a5",
   "metadata": {},
   "outputs": [],
   "source": [
    "print(report)"
   ]
  },
  {
   "cell_type": "code",
   "execution_count": null,
   "id": "80a691279a6576cb",
   "metadata": {},
   "outputs": [],
   "source": [
    "print(f'Model results:\\nAccuracy: {accuracy:.2f}\\nRecall: {recall:.2f}\\nPrecision: {precision:.2f}')"
   ]
  },
  {
   "cell_type": "code",
   "execution_count": null,
   "id": "804c295a0656f328",
   "metadata": {},
   "outputs": [],
   "source": [
    "# Save checkpoint as the deployment model\n",
    "torch.save(best_classifier.state_dict(), os.path.join(rf'model.pth'))"
   ]
  },
  {
   "cell_type": "code",
   "execution_count": null,
   "id": "a6237b35e03ef11e",
   "metadata": {},
   "outputs": [],
   "source": [
    "# Run this cell when the system's memory is running low\n",
    "gc.collect()\n",
    "clear_output()"
   ]
  }
 ],
 "metadata": {
  "kernelspec": {
   "display_name": "Python 3 (ipykernel)",
   "language": "python",
   "name": "python3"
  },
  "language_info": {
   "codemirror_mode": {
    "name": "ipython",
    "version": 3
   },
   "file_extension": ".py",
   "mimetype": "text/x-python",
   "name": "python",
   "nbconvert_exporter": "python",
   "pygments_lexer": "ipython3",
   "version": "3.11.10"
  }
 },
 "nbformat": 4,
 "nbformat_minor": 5
}
